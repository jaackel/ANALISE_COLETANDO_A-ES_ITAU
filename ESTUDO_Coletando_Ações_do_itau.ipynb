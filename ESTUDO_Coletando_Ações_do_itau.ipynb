{
  "nbformat": 4,
  "nbformat_minor": 0,
  "metadata": {
    "colab": {
      "provenance": []
    },
    "kernelspec": {
      "name": "python3",
      "display_name": "Python 3"
    },
    "language_info": {
      "name": "python"
    }
  },
  "cells": [
    {
      "cell_type": "markdown",
      "source": [
        "*#BIBLIOTECAS  *\n",
        "\n",
        "\n",
        "\n",
        "*   yfinance :https://pypi.org/project/yfinance/\n",
        "*   investpy :https://investpy.readthedocs.io/\n",
        "*   pybovespa : https://pypi.org/project/pybovespa/\n",
        "*   quandl :https://data.nasdaq.com/ #site mudou o nome \n",
        "*   pandasfinance : https://pypi.org/project/pandas-finance/\n",
        "*   pandasreader : https://pandas-datareader.readthedocs.io/en/latest/\n",
        "\n",
        "\n",
        "\n",
        "\n",
        "\n",
        "\n",
        "\n",
        "\n"
      ],
      "metadata": {
        "id": "3VCoe98VaI-_"
      }
    },
    {
      "cell_type": "code",
      "source": [
        "import pandas as period\n"
      ],
      "metadata": {
        "id": "vgBisGsXFH02"
      },
      "execution_count": null,
      "outputs": []
    },
    {
      "cell_type": "code",
      "source": [
        " pip install plotly==5.10.0\n"
      ],
      "metadata": {
        "colab": {
          "base_uri": "https://localhost:8080/"
        },
        "id": "0882nVlBZPtf",
        "outputId": "1b1e66fc-8115-4a52-b770-76c762eeb9a2"
      },
      "execution_count": null,
      "outputs": [
        {
          "output_type": "stream",
          "name": "stdout",
          "text": [
            "Looking in indexes: https://pypi.org/simple, https://us-python.pkg.dev/colab-wheels/public/simple/\n",
            "Requirement already satisfied: plotly==5.10.0 in /usr/local/lib/python3.7/dist-packages (5.10.0)\n",
            "Requirement already satisfied: tenacity>=6.2.0 in /usr/local/lib/python3.7/dist-packages (from plotly==5.10.0) (8.1.0)\n"
          ]
        }
      ]
    },
    {
      "cell_type": "code",
      "source": [
        "pip install yfinance"
      ],
      "metadata": {
        "id": "bUiZdEyMJ9Pk",
        "colab": {
          "base_uri": "https://localhost:8080/"
        },
        "outputId": "9178338c-ef05-4b6d-d354-6ae8dd6d4257"
      },
      "execution_count": null,
      "outputs": [
        {
          "output_type": "stream",
          "name": "stdout",
          "text": [
            "Looking in indexes: https://pypi.org/simple, https://us-python.pkg.dev/colab-wheels/public/simple/\n",
            "Collecting yfinance\n",
            "  Downloading yfinance-0.1.81-py2.py3-none-any.whl (29 kB)\n",
            "Requirement already satisfied: multitasking>=0.0.7 in /usr/local/lib/python3.7/dist-packages (from yfinance) (0.0.11)\n",
            "Requirement already satisfied: appdirs>=1.4.4 in /usr/local/lib/python3.7/dist-packages (from yfinance) (1.4.4)\n",
            "Collecting requests>=2.26\n",
            "  Downloading requests-2.28.1-py3-none-any.whl (62 kB)\n",
            "\u001b[K     |████████████████████████████████| 62 kB 1.5 MB/s \n",
            "\u001b[?25hRequirement already satisfied: pandas>=0.24.0 in /usr/local/lib/python3.7/dist-packages (from yfinance) (1.3.5)\n",
            "Requirement already satisfied: numpy>=1.15 in /usr/local/lib/python3.7/dist-packages (from yfinance) (1.21.6)\n",
            "Requirement already satisfied: lxml>=4.5.1 in /usr/local/lib/python3.7/dist-packages (from yfinance) (4.9.1)\n",
            "Requirement already satisfied: python-dateutil>=2.7.3 in /usr/local/lib/python3.7/dist-packages (from pandas>=0.24.0->yfinance) (2.8.2)\n",
            "Requirement already satisfied: pytz>=2017.3 in /usr/local/lib/python3.7/dist-packages (from pandas>=0.24.0->yfinance) (2022.4)\n",
            "Requirement already satisfied: six>=1.5 in /usr/local/lib/python3.7/dist-packages (from python-dateutil>=2.7.3->pandas>=0.24.0->yfinance) (1.15.0)\n",
            "Requirement already satisfied: certifi>=2017.4.17 in /usr/local/lib/python3.7/dist-packages (from requests>=2.26->yfinance) (2022.9.24)\n",
            "Requirement already satisfied: charset-normalizer<3,>=2 in /usr/local/lib/python3.7/dist-packages (from requests>=2.26->yfinance) (2.1.1)\n",
            "Requirement already satisfied: urllib3<1.27,>=1.21.1 in /usr/local/lib/python3.7/dist-packages (from requests>=2.26->yfinance) (1.24.3)\n",
            "Requirement already satisfied: idna<4,>=2.5 in /usr/local/lib/python3.7/dist-packages (from requests>=2.26->yfinance) (2.10)\n",
            "Installing collected packages: requests, yfinance\n",
            "  Attempting uninstall: requests\n",
            "    Found existing installation: requests 2.23.0\n",
            "    Uninstalling requests-2.23.0:\n",
            "      Successfully uninstalled requests-2.23.0\n",
            "Successfully installed requests-2.28.1 yfinance-0.1.81\n"
          ]
        }
      ]
    },
    {
      "cell_type": "code",
      "execution_count": null,
      "metadata": {
        "id": "7iDnjD-gZxTy"
      },
      "outputs": [],
      "source": [
        "#bibliotecas\n",
        "\n",
        "import pandas as pd\n",
        "import pandas_datareader\n",
        "import matplotlib.pyplot as plt\n",
        "import yfinance as yf\n",
        "import pandas as period\n",
        "from statsmodels.tsa.seasonal import seasonal_decompose\n",
        "from pandas_datareader import data as web\n"
      ]
    },
    {
      "cell_type": "code",
      "source": [
        "import statsmodels.tsa.seasonal as dc"
      ],
      "metadata": {
        "id": "N2740kYROm11"
      },
      "execution_count": null,
      "outputs": []
    },
    {
      "cell_type": "markdown",
      "source": [
        "## 1) Aquisição de dados de ações "
      ],
      "metadata": {
        "id": "0rGmSVLKbjhJ"
      }
    },
    {
      "cell_type": "code",
      "source": [
        "ticket = yf.Ticker(\"ITSA4.SA\") #aqui é a ação , estou atribuindo o valor de ticket\n",
        "#df= data definido\n",
        "#df = ticket.history(period = 2y', interval = '1mo' ) # difinição de dados\n",
        "df= ticket.history(interval='1d',start= '2020-01-01', end = '2022-10-14')"
      ],
      "metadata": {
        "id": "b1lfTlkeWCBK"
      },
      "execution_count": null,
      "outputs": []
    },
    {
      "cell_type": "code",
      "source": [
        "df"
      ],
      "metadata": {
        "id": "j1TrUoKAcLFN",
        "colab": {
          "base_uri": "https://localhost:8080/",
          "height": 455
        },
        "outputId": "475922ef-5b23-4c11-f6ed-08d7c538419c"
      },
      "execution_count": null,
      "outputs": [
        {
          "output_type": "execute_result",
          "data": {
            "text/plain": [
              "                                Open       High        Low      Close  \\\n",
              "Date                                                                    \n",
              "2020-01-02 00:00:00-03:00  11.933980  12.136538  11.874901  12.111217   \n",
              "2020-01-03 00:00:00-03:00  11.984621  12.119659  11.917103  11.933982   \n",
              "2020-01-06 00:00:00-03:00  11.917098  11.993056  11.824260  11.908658   \n",
              "2020-01-07 00:00:00-03:00  11.917101  11.933980  11.663904  11.748302   \n",
              "2020-01-08 00:00:00-03:00  11.773625  11.858024  11.545748  11.571068   \n",
              "...                              ...        ...        ...        ...   \n",
              "2022-10-06 00:00:00-03:00  10.370000  10.400000  10.230000  10.300000   \n",
              "2022-10-07 00:00:00-03:00  10.260000  10.300000  10.070000  10.230000   \n",
              "2022-10-10 00:00:00-03:00  10.270000  10.280000  10.110000  10.210000   \n",
              "2022-10-11 00:00:00-03:00  10.150000  10.260000  10.020000  10.080000   \n",
              "2022-10-13 00:00:00-03:00  10.000000  10.130000   9.940000  10.020000   \n",
              "\n",
              "                               Volume  Dividends  Stock Splits  \n",
              "Date                                                            \n",
              "2020-01-02 00:00:00-03:00  19199040.0        0.0           0.0  \n",
              "2020-01-03 00:00:00-03:00  22913100.0        0.0           0.0  \n",
              "2020-01-06 00:00:00-03:00  21286440.0        0.0           0.0  \n",
              "2020-01-07 00:00:00-03:00  21072555.0        0.0           0.0  \n",
              "2020-01-08 00:00:00-03:00  20354565.0        0.0           0.0  \n",
              "...                               ...        ...           ...  \n",
              "2022-10-06 00:00:00-03:00  20370200.0        0.0           0.0  \n",
              "2022-10-07 00:00:00-03:00  14570800.0        0.0           0.0  \n",
              "2022-10-10 00:00:00-03:00  18152000.0        0.0           0.0  \n",
              "2022-10-11 00:00:00-03:00  25150200.0        0.0           0.0  \n",
              "2022-10-13 00:00:00-03:00  20179200.0        0.0           0.0  \n",
              "\n",
              "[693 rows x 7 columns]"
            ],
            "text/html": [
              "\n",
              "  <div id=\"df-593357dc-825c-4d57-9ed0-45854bb661dc\">\n",
              "    <div class=\"colab-df-container\">\n",
              "      <div>\n",
              "<style scoped>\n",
              "    .dataframe tbody tr th:only-of-type {\n",
              "        vertical-align: middle;\n",
              "    }\n",
              "\n",
              "    .dataframe tbody tr th {\n",
              "        vertical-align: top;\n",
              "    }\n",
              "\n",
              "    .dataframe thead th {\n",
              "        text-align: right;\n",
              "    }\n",
              "</style>\n",
              "<table border=\"1\" class=\"dataframe\">\n",
              "  <thead>\n",
              "    <tr style=\"text-align: right;\">\n",
              "      <th></th>\n",
              "      <th>Open</th>\n",
              "      <th>High</th>\n",
              "      <th>Low</th>\n",
              "      <th>Close</th>\n",
              "      <th>Volume</th>\n",
              "      <th>Dividends</th>\n",
              "      <th>Stock Splits</th>\n",
              "    </tr>\n",
              "    <tr>\n",
              "      <th>Date</th>\n",
              "      <th></th>\n",
              "      <th></th>\n",
              "      <th></th>\n",
              "      <th></th>\n",
              "      <th></th>\n",
              "      <th></th>\n",
              "      <th></th>\n",
              "    </tr>\n",
              "  </thead>\n",
              "  <tbody>\n",
              "    <tr>\n",
              "      <th>2020-01-02 00:00:00-03:00</th>\n",
              "      <td>11.933980</td>\n",
              "      <td>12.136538</td>\n",
              "      <td>11.874901</td>\n",
              "      <td>12.111217</td>\n",
              "      <td>19199040.0</td>\n",
              "      <td>0.0</td>\n",
              "      <td>0.0</td>\n",
              "    </tr>\n",
              "    <tr>\n",
              "      <th>2020-01-03 00:00:00-03:00</th>\n",
              "      <td>11.984621</td>\n",
              "      <td>12.119659</td>\n",
              "      <td>11.917103</td>\n",
              "      <td>11.933982</td>\n",
              "      <td>22913100.0</td>\n",
              "      <td>0.0</td>\n",
              "      <td>0.0</td>\n",
              "    </tr>\n",
              "    <tr>\n",
              "      <th>2020-01-06 00:00:00-03:00</th>\n",
              "      <td>11.917098</td>\n",
              "      <td>11.993056</td>\n",
              "      <td>11.824260</td>\n",
              "      <td>11.908658</td>\n",
              "      <td>21286440.0</td>\n",
              "      <td>0.0</td>\n",
              "      <td>0.0</td>\n",
              "    </tr>\n",
              "    <tr>\n",
              "      <th>2020-01-07 00:00:00-03:00</th>\n",
              "      <td>11.917101</td>\n",
              "      <td>11.933980</td>\n",
              "      <td>11.663904</td>\n",
              "      <td>11.748302</td>\n",
              "      <td>21072555.0</td>\n",
              "      <td>0.0</td>\n",
              "      <td>0.0</td>\n",
              "    </tr>\n",
              "    <tr>\n",
              "      <th>2020-01-08 00:00:00-03:00</th>\n",
              "      <td>11.773625</td>\n",
              "      <td>11.858024</td>\n",
              "      <td>11.545748</td>\n",
              "      <td>11.571068</td>\n",
              "      <td>20354565.0</td>\n",
              "      <td>0.0</td>\n",
              "      <td>0.0</td>\n",
              "    </tr>\n",
              "    <tr>\n",
              "      <th>...</th>\n",
              "      <td>...</td>\n",
              "      <td>...</td>\n",
              "      <td>...</td>\n",
              "      <td>...</td>\n",
              "      <td>...</td>\n",
              "      <td>...</td>\n",
              "      <td>...</td>\n",
              "    </tr>\n",
              "    <tr>\n",
              "      <th>2022-10-06 00:00:00-03:00</th>\n",
              "      <td>10.370000</td>\n",
              "      <td>10.400000</td>\n",
              "      <td>10.230000</td>\n",
              "      <td>10.300000</td>\n",
              "      <td>20370200.0</td>\n",
              "      <td>0.0</td>\n",
              "      <td>0.0</td>\n",
              "    </tr>\n",
              "    <tr>\n",
              "      <th>2022-10-07 00:00:00-03:00</th>\n",
              "      <td>10.260000</td>\n",
              "      <td>10.300000</td>\n",
              "      <td>10.070000</td>\n",
              "      <td>10.230000</td>\n",
              "      <td>14570800.0</td>\n",
              "      <td>0.0</td>\n",
              "      <td>0.0</td>\n",
              "    </tr>\n",
              "    <tr>\n",
              "      <th>2022-10-10 00:00:00-03:00</th>\n",
              "      <td>10.270000</td>\n",
              "      <td>10.280000</td>\n",
              "      <td>10.110000</td>\n",
              "      <td>10.210000</td>\n",
              "      <td>18152000.0</td>\n",
              "      <td>0.0</td>\n",
              "      <td>0.0</td>\n",
              "    </tr>\n",
              "    <tr>\n",
              "      <th>2022-10-11 00:00:00-03:00</th>\n",
              "      <td>10.150000</td>\n",
              "      <td>10.260000</td>\n",
              "      <td>10.020000</td>\n",
              "      <td>10.080000</td>\n",
              "      <td>25150200.0</td>\n",
              "      <td>0.0</td>\n",
              "      <td>0.0</td>\n",
              "    </tr>\n",
              "    <tr>\n",
              "      <th>2022-10-13 00:00:00-03:00</th>\n",
              "      <td>10.000000</td>\n",
              "      <td>10.130000</td>\n",
              "      <td>9.940000</td>\n",
              "      <td>10.020000</td>\n",
              "      <td>20179200.0</td>\n",
              "      <td>0.0</td>\n",
              "      <td>0.0</td>\n",
              "    </tr>\n",
              "  </tbody>\n",
              "</table>\n",
              "<p>693 rows × 7 columns</p>\n",
              "</div>\n",
              "      <button class=\"colab-df-convert\" onclick=\"convertToInteractive('df-593357dc-825c-4d57-9ed0-45854bb661dc')\"\n",
              "              title=\"Convert this dataframe to an interactive table.\"\n",
              "              style=\"display:none;\">\n",
              "        \n",
              "  <svg xmlns=\"http://www.w3.org/2000/svg\" height=\"24px\"viewBox=\"0 0 24 24\"\n",
              "       width=\"24px\">\n",
              "    <path d=\"M0 0h24v24H0V0z\" fill=\"none\"/>\n",
              "    <path d=\"M18.56 5.44l.94 2.06.94-2.06 2.06-.94-2.06-.94-.94-2.06-.94 2.06-2.06.94zm-11 1L8.5 8.5l.94-2.06 2.06-.94-2.06-.94L8.5 2.5l-.94 2.06-2.06.94zm10 10l.94 2.06.94-2.06 2.06-.94-2.06-.94-.94-2.06-.94 2.06-2.06.94z\"/><path d=\"M17.41 7.96l-1.37-1.37c-.4-.4-.92-.59-1.43-.59-.52 0-1.04.2-1.43.59L10.3 9.45l-7.72 7.72c-.78.78-.78 2.05 0 2.83L4 21.41c.39.39.9.59 1.41.59.51 0 1.02-.2 1.41-.59l7.78-7.78 2.81-2.81c.8-.78.8-2.07 0-2.86zM5.41 20L4 18.59l7.72-7.72 1.47 1.35L5.41 20z\"/>\n",
              "  </svg>\n",
              "      </button>\n",
              "      \n",
              "  <style>\n",
              "    .colab-df-container {\n",
              "      display:flex;\n",
              "      flex-wrap:wrap;\n",
              "      gap: 12px;\n",
              "    }\n",
              "\n",
              "    .colab-df-convert {\n",
              "      background-color: #E8F0FE;\n",
              "      border: none;\n",
              "      border-radius: 50%;\n",
              "      cursor: pointer;\n",
              "      display: none;\n",
              "      fill: #1967D2;\n",
              "      height: 32px;\n",
              "      padding: 0 0 0 0;\n",
              "      width: 32px;\n",
              "    }\n",
              "\n",
              "    .colab-df-convert:hover {\n",
              "      background-color: #E2EBFA;\n",
              "      box-shadow: 0px 1px 2px rgba(60, 64, 67, 0.3), 0px 1px 3px 1px rgba(60, 64, 67, 0.15);\n",
              "      fill: #174EA6;\n",
              "    }\n",
              "\n",
              "    [theme=dark] .colab-df-convert {\n",
              "      background-color: #3B4455;\n",
              "      fill: #D2E3FC;\n",
              "    }\n",
              "\n",
              "    [theme=dark] .colab-df-convert:hover {\n",
              "      background-color: #434B5C;\n",
              "      box-shadow: 0px 1px 3px 1px rgba(0, 0, 0, 0.15);\n",
              "      filter: drop-shadow(0px 1px 2px rgba(0, 0, 0, 0.3));\n",
              "      fill: #FFFFFF;\n",
              "    }\n",
              "  </style>\n",
              "\n",
              "      <script>\n",
              "        const buttonEl =\n",
              "          document.querySelector('#df-593357dc-825c-4d57-9ed0-45854bb661dc button.colab-df-convert');\n",
              "        buttonEl.style.display =\n",
              "          google.colab.kernel.accessAllowed ? 'block' : 'none';\n",
              "\n",
              "        async function convertToInteractive(key) {\n",
              "          const element = document.querySelector('#df-593357dc-825c-4d57-9ed0-45854bb661dc');\n",
              "          const dataTable =\n",
              "            await google.colab.kernel.invokeFunction('convertToInteractive',\n",
              "                                                     [key], {});\n",
              "          if (!dataTable) return;\n",
              "\n",
              "          const docLinkHtml = 'Like what you see? Visit the ' +\n",
              "            '<a target=\"_blank\" href=https://colab.research.google.com/notebooks/data_table.ipynb>data table notebook</a>'\n",
              "            + ' to learn more about interactive tables.';\n",
              "          element.innerHTML = '';\n",
              "          dataTable['output_type'] = 'display_data';\n",
              "          await google.colab.output.renderOutput(dataTable, element);\n",
              "          const docLink = document.createElement('div');\n",
              "          docLink.innerHTML = docLinkHtml;\n",
              "          element.appendChild(docLink);\n",
              "        }\n",
              "      </script>\n",
              "    </div>\n",
              "  </div>\n",
              "  "
            ]
          },
          "metadata": {},
          "execution_count": 42
        }
      ]
    },
    {
      "cell_type": "code",
      "source": [
        "df.tail(10) #VAI PEGAR AS ULTIMAS 10 INFORMAÇÕES "
      ],
      "metadata": {
        "id": "oumAA33kdmmu",
        "colab": {
          "base_uri": "https://localhost:8080/",
          "height": 394
        },
        "outputId": "e9071c29-ac14-4374-b5b8-e2fd06a50d51"
      },
      "execution_count": null,
      "outputs": [
        {
          "output_type": "execute_result",
          "data": {
            "text/plain": [
              "                            Open   High    Low  Close      Volume  Dividends  \\\n",
              "Date                                                                           \n",
              "2022-09-29 00:00:00-03:00   9.47   9.69   9.42   9.61  26383900.0        0.0   \n",
              "2022-09-30 00:00:00-03:00   9.60   9.81   9.56   9.73  29456200.0        0.0   \n",
              "2022-10-03 00:00:00-03:00   9.90  10.44   9.88  10.42  49866100.0        0.0   \n",
              "2022-10-04 00:00:00-03:00  10.50  10.61  10.26  10.32  38458300.0        0.0   \n",
              "2022-10-05 00:00:00-03:00  10.34  10.46  10.28  10.35  15580100.0        0.0   \n",
              "2022-10-06 00:00:00-03:00  10.37  10.40  10.23  10.30  20370200.0        0.0   \n",
              "2022-10-07 00:00:00-03:00  10.26  10.30  10.07  10.23  14570800.0        0.0   \n",
              "2022-10-10 00:00:00-03:00  10.27  10.28  10.11  10.21  18152000.0        0.0   \n",
              "2022-10-11 00:00:00-03:00  10.15  10.26  10.02  10.08  25150200.0        0.0   \n",
              "2022-10-13 00:00:00-03:00  10.00  10.13   9.94  10.02  20179200.0        0.0   \n",
              "\n",
              "                           Stock Splits  \n",
              "Date                                     \n",
              "2022-09-29 00:00:00-03:00           0.0  \n",
              "2022-09-30 00:00:00-03:00           0.0  \n",
              "2022-10-03 00:00:00-03:00           0.0  \n",
              "2022-10-04 00:00:00-03:00           0.0  \n",
              "2022-10-05 00:00:00-03:00           0.0  \n",
              "2022-10-06 00:00:00-03:00           0.0  \n",
              "2022-10-07 00:00:00-03:00           0.0  \n",
              "2022-10-10 00:00:00-03:00           0.0  \n",
              "2022-10-11 00:00:00-03:00           0.0  \n",
              "2022-10-13 00:00:00-03:00           0.0  "
            ],
            "text/html": [
              "\n",
              "  <div id=\"df-e4ad204c-b79a-41d0-b26a-cb5bd08ae148\">\n",
              "    <div class=\"colab-df-container\">\n",
              "      <div>\n",
              "<style scoped>\n",
              "    .dataframe tbody tr th:only-of-type {\n",
              "        vertical-align: middle;\n",
              "    }\n",
              "\n",
              "    .dataframe tbody tr th {\n",
              "        vertical-align: top;\n",
              "    }\n",
              "\n",
              "    .dataframe thead th {\n",
              "        text-align: right;\n",
              "    }\n",
              "</style>\n",
              "<table border=\"1\" class=\"dataframe\">\n",
              "  <thead>\n",
              "    <tr style=\"text-align: right;\">\n",
              "      <th></th>\n",
              "      <th>Open</th>\n",
              "      <th>High</th>\n",
              "      <th>Low</th>\n",
              "      <th>Close</th>\n",
              "      <th>Volume</th>\n",
              "      <th>Dividends</th>\n",
              "      <th>Stock Splits</th>\n",
              "    </tr>\n",
              "    <tr>\n",
              "      <th>Date</th>\n",
              "      <th></th>\n",
              "      <th></th>\n",
              "      <th></th>\n",
              "      <th></th>\n",
              "      <th></th>\n",
              "      <th></th>\n",
              "      <th></th>\n",
              "    </tr>\n",
              "  </thead>\n",
              "  <tbody>\n",
              "    <tr>\n",
              "      <th>2022-09-29 00:00:00-03:00</th>\n",
              "      <td>9.47</td>\n",
              "      <td>9.69</td>\n",
              "      <td>9.42</td>\n",
              "      <td>9.61</td>\n",
              "      <td>26383900.0</td>\n",
              "      <td>0.0</td>\n",
              "      <td>0.0</td>\n",
              "    </tr>\n",
              "    <tr>\n",
              "      <th>2022-09-30 00:00:00-03:00</th>\n",
              "      <td>9.60</td>\n",
              "      <td>9.81</td>\n",
              "      <td>9.56</td>\n",
              "      <td>9.73</td>\n",
              "      <td>29456200.0</td>\n",
              "      <td>0.0</td>\n",
              "      <td>0.0</td>\n",
              "    </tr>\n",
              "    <tr>\n",
              "      <th>2022-10-03 00:00:00-03:00</th>\n",
              "      <td>9.90</td>\n",
              "      <td>10.44</td>\n",
              "      <td>9.88</td>\n",
              "      <td>10.42</td>\n",
              "      <td>49866100.0</td>\n",
              "      <td>0.0</td>\n",
              "      <td>0.0</td>\n",
              "    </tr>\n",
              "    <tr>\n",
              "      <th>2022-10-04 00:00:00-03:00</th>\n",
              "      <td>10.50</td>\n",
              "      <td>10.61</td>\n",
              "      <td>10.26</td>\n",
              "      <td>10.32</td>\n",
              "      <td>38458300.0</td>\n",
              "      <td>0.0</td>\n",
              "      <td>0.0</td>\n",
              "    </tr>\n",
              "    <tr>\n",
              "      <th>2022-10-05 00:00:00-03:00</th>\n",
              "      <td>10.34</td>\n",
              "      <td>10.46</td>\n",
              "      <td>10.28</td>\n",
              "      <td>10.35</td>\n",
              "      <td>15580100.0</td>\n",
              "      <td>0.0</td>\n",
              "      <td>0.0</td>\n",
              "    </tr>\n",
              "    <tr>\n",
              "      <th>2022-10-06 00:00:00-03:00</th>\n",
              "      <td>10.37</td>\n",
              "      <td>10.40</td>\n",
              "      <td>10.23</td>\n",
              "      <td>10.30</td>\n",
              "      <td>20370200.0</td>\n",
              "      <td>0.0</td>\n",
              "      <td>0.0</td>\n",
              "    </tr>\n",
              "    <tr>\n",
              "      <th>2022-10-07 00:00:00-03:00</th>\n",
              "      <td>10.26</td>\n",
              "      <td>10.30</td>\n",
              "      <td>10.07</td>\n",
              "      <td>10.23</td>\n",
              "      <td>14570800.0</td>\n",
              "      <td>0.0</td>\n",
              "      <td>0.0</td>\n",
              "    </tr>\n",
              "    <tr>\n",
              "      <th>2022-10-10 00:00:00-03:00</th>\n",
              "      <td>10.27</td>\n",
              "      <td>10.28</td>\n",
              "      <td>10.11</td>\n",
              "      <td>10.21</td>\n",
              "      <td>18152000.0</td>\n",
              "      <td>0.0</td>\n",
              "      <td>0.0</td>\n",
              "    </tr>\n",
              "    <tr>\n",
              "      <th>2022-10-11 00:00:00-03:00</th>\n",
              "      <td>10.15</td>\n",
              "      <td>10.26</td>\n",
              "      <td>10.02</td>\n",
              "      <td>10.08</td>\n",
              "      <td>25150200.0</td>\n",
              "      <td>0.0</td>\n",
              "      <td>0.0</td>\n",
              "    </tr>\n",
              "    <tr>\n",
              "      <th>2022-10-13 00:00:00-03:00</th>\n",
              "      <td>10.00</td>\n",
              "      <td>10.13</td>\n",
              "      <td>9.94</td>\n",
              "      <td>10.02</td>\n",
              "      <td>20179200.0</td>\n",
              "      <td>0.0</td>\n",
              "      <td>0.0</td>\n",
              "    </tr>\n",
              "  </tbody>\n",
              "</table>\n",
              "</div>\n",
              "      <button class=\"colab-df-convert\" onclick=\"convertToInteractive('df-e4ad204c-b79a-41d0-b26a-cb5bd08ae148')\"\n",
              "              title=\"Convert this dataframe to an interactive table.\"\n",
              "              style=\"display:none;\">\n",
              "        \n",
              "  <svg xmlns=\"http://www.w3.org/2000/svg\" height=\"24px\"viewBox=\"0 0 24 24\"\n",
              "       width=\"24px\">\n",
              "    <path d=\"M0 0h24v24H0V0z\" fill=\"none\"/>\n",
              "    <path d=\"M18.56 5.44l.94 2.06.94-2.06 2.06-.94-2.06-.94-.94-2.06-.94 2.06-2.06.94zm-11 1L8.5 8.5l.94-2.06 2.06-.94-2.06-.94L8.5 2.5l-.94 2.06-2.06.94zm10 10l.94 2.06.94-2.06 2.06-.94-2.06-.94-.94-2.06-.94 2.06-2.06.94z\"/><path d=\"M17.41 7.96l-1.37-1.37c-.4-.4-.92-.59-1.43-.59-.52 0-1.04.2-1.43.59L10.3 9.45l-7.72 7.72c-.78.78-.78 2.05 0 2.83L4 21.41c.39.39.9.59 1.41.59.51 0 1.02-.2 1.41-.59l7.78-7.78 2.81-2.81c.8-.78.8-2.07 0-2.86zM5.41 20L4 18.59l7.72-7.72 1.47 1.35L5.41 20z\"/>\n",
              "  </svg>\n",
              "      </button>\n",
              "      \n",
              "  <style>\n",
              "    .colab-df-container {\n",
              "      display:flex;\n",
              "      flex-wrap:wrap;\n",
              "      gap: 12px;\n",
              "    }\n",
              "\n",
              "    .colab-df-convert {\n",
              "      background-color: #E8F0FE;\n",
              "      border: none;\n",
              "      border-radius: 50%;\n",
              "      cursor: pointer;\n",
              "      display: none;\n",
              "      fill: #1967D2;\n",
              "      height: 32px;\n",
              "      padding: 0 0 0 0;\n",
              "      width: 32px;\n",
              "    }\n",
              "\n",
              "    .colab-df-convert:hover {\n",
              "      background-color: #E2EBFA;\n",
              "      box-shadow: 0px 1px 2px rgba(60, 64, 67, 0.3), 0px 1px 3px 1px rgba(60, 64, 67, 0.15);\n",
              "      fill: #174EA6;\n",
              "    }\n",
              "\n",
              "    [theme=dark] .colab-df-convert {\n",
              "      background-color: #3B4455;\n",
              "      fill: #D2E3FC;\n",
              "    }\n",
              "\n",
              "    [theme=dark] .colab-df-convert:hover {\n",
              "      background-color: #434B5C;\n",
              "      box-shadow: 0px 1px 3px 1px rgba(0, 0, 0, 0.15);\n",
              "      filter: drop-shadow(0px 1px 2px rgba(0, 0, 0, 0.3));\n",
              "      fill: #FFFFFF;\n",
              "    }\n",
              "  </style>\n",
              "\n",
              "      <script>\n",
              "        const buttonEl =\n",
              "          document.querySelector('#df-e4ad204c-b79a-41d0-b26a-cb5bd08ae148 button.colab-df-convert');\n",
              "        buttonEl.style.display =\n",
              "          google.colab.kernel.accessAllowed ? 'block' : 'none';\n",
              "\n",
              "        async function convertToInteractive(key) {\n",
              "          const element = document.querySelector('#df-e4ad204c-b79a-41d0-b26a-cb5bd08ae148');\n",
              "          const dataTable =\n",
              "            await google.colab.kernel.invokeFunction('convertToInteractive',\n",
              "                                                     [key], {});\n",
              "          if (!dataTable) return;\n",
              "\n",
              "          const docLinkHtml = 'Like what you see? Visit the ' +\n",
              "            '<a target=\"_blank\" href=https://colab.research.google.com/notebooks/data_table.ipynb>data table notebook</a>'\n",
              "            + ' to learn more about interactive tables.';\n",
              "          element.innerHTML = '';\n",
              "          dataTable['output_type'] = 'display_data';\n",
              "          await google.colab.output.renderOutput(dataTable, element);\n",
              "          const docLink = document.createElement('div');\n",
              "          docLink.innerHTML = docLinkHtml;\n",
              "          element.appendChild(docLink);\n",
              "        }\n",
              "      </script>\n",
              "    </div>\n",
              "  </div>\n",
              "  "
            ]
          },
          "metadata": {},
          "execution_count": 43
        }
      ]
    },
    {
      "cell_type": "markdown",
      "source": [
        "### 2) DECOMPOSIÇÃO DE UMA SERIE TEMPORAL \n",
        "\n",
        "MODELOS MATEMATICOS \n",
        "additive Model\n",
        "\n",
        "*   additive Model\n",
        "        \n",
        "          *   y(t) = Trend_t + Seasonality_t + Noisr\n",
        "\n",
        "*   multiplicate Model\n",
        "        *   y(t) = Trend_t * seasonality_t* Noise_t\n",
        "\n",
        "\n",
        "\n",
        "\n",
        "\n",
        "\n",
        "\n",
        "\n",
        "\n",
        "\n",
        "\n",
        "\n",
        "\n",
        "\n",
        "\n",
        "\n"
      ],
      "metadata": {
        "id": "VFYKl5epedfN"
      }
    },
    {
      "cell_type": "code",
      "source": [
        "df[['Close']].info () #mostra o tipo de dados que tem aqui"
      ],
      "metadata": {
        "id": "9dmOFhRBes1D",
        "colab": {
          "base_uri": "https://localhost:8080/"
        },
        "outputId": "181edfff-26b8-4a91-e8f3-22daab23a8c9"
      },
      "execution_count": null,
      "outputs": [
        {
          "output_type": "stream",
          "name": "stdout",
          "text": [
            "<class 'pandas.core.frame.DataFrame'>\n",
            "DatetimeIndex: 693 entries, 2020-01-02 00:00:00-03:00 to 2022-10-13 00:00:00-03:00\n",
            "Data columns (total 1 columns):\n",
            " #   Column  Non-Null Count  Dtype  \n",
            "---  ------  --------------  -----  \n",
            " 0   Close   692 non-null    float64\n",
            "dtypes: float64(1)\n",
            "memory usage: 27.0 KB\n"
          ]
        }
      ]
    },
    {
      "cell_type": "code",
      "source": [
        "df[['Close']].head()\n"
      ],
      "metadata": {
        "id": "OORIRmLgjcis",
        "colab": {
          "base_uri": "https://localhost:8080/",
          "height": 238
        },
        "outputId": "22eb0086-f23a-406c-8308-c6a42bfdc8fa"
      },
      "execution_count": null,
      "outputs": [
        {
          "output_type": "execute_result",
          "data": {
            "text/plain": [
              "                               Close\n",
              "Date                                \n",
              "2020-01-02 00:00:00-03:00  12.111217\n",
              "2020-01-03 00:00:00-03:00  11.933982\n",
              "2020-01-06 00:00:00-03:00  11.908658\n",
              "2020-01-07 00:00:00-03:00  11.748302\n",
              "2020-01-08 00:00:00-03:00  11.571068"
            ],
            "text/html": [
              "\n",
              "  <div id=\"df-e26ff974-fb02-49cd-9a41-f0bf4d6c9df3\">\n",
              "    <div class=\"colab-df-container\">\n",
              "      <div>\n",
              "<style scoped>\n",
              "    .dataframe tbody tr th:only-of-type {\n",
              "        vertical-align: middle;\n",
              "    }\n",
              "\n",
              "    .dataframe tbody tr th {\n",
              "        vertical-align: top;\n",
              "    }\n",
              "\n",
              "    .dataframe thead th {\n",
              "        text-align: right;\n",
              "    }\n",
              "</style>\n",
              "<table border=\"1\" class=\"dataframe\">\n",
              "  <thead>\n",
              "    <tr style=\"text-align: right;\">\n",
              "      <th></th>\n",
              "      <th>Close</th>\n",
              "    </tr>\n",
              "    <tr>\n",
              "      <th>Date</th>\n",
              "      <th></th>\n",
              "    </tr>\n",
              "  </thead>\n",
              "  <tbody>\n",
              "    <tr>\n",
              "      <th>2020-01-02 00:00:00-03:00</th>\n",
              "      <td>12.111217</td>\n",
              "    </tr>\n",
              "    <tr>\n",
              "      <th>2020-01-03 00:00:00-03:00</th>\n",
              "      <td>11.933982</td>\n",
              "    </tr>\n",
              "    <tr>\n",
              "      <th>2020-01-06 00:00:00-03:00</th>\n",
              "      <td>11.908658</td>\n",
              "    </tr>\n",
              "    <tr>\n",
              "      <th>2020-01-07 00:00:00-03:00</th>\n",
              "      <td>11.748302</td>\n",
              "    </tr>\n",
              "    <tr>\n",
              "      <th>2020-01-08 00:00:00-03:00</th>\n",
              "      <td>11.571068</td>\n",
              "    </tr>\n",
              "  </tbody>\n",
              "</table>\n",
              "</div>\n",
              "      <button class=\"colab-df-convert\" onclick=\"convertToInteractive('df-e26ff974-fb02-49cd-9a41-f0bf4d6c9df3')\"\n",
              "              title=\"Convert this dataframe to an interactive table.\"\n",
              "              style=\"display:none;\">\n",
              "        \n",
              "  <svg xmlns=\"http://www.w3.org/2000/svg\" height=\"24px\"viewBox=\"0 0 24 24\"\n",
              "       width=\"24px\">\n",
              "    <path d=\"M0 0h24v24H0V0z\" fill=\"none\"/>\n",
              "    <path d=\"M18.56 5.44l.94 2.06.94-2.06 2.06-.94-2.06-.94-.94-2.06-.94 2.06-2.06.94zm-11 1L8.5 8.5l.94-2.06 2.06-.94-2.06-.94L8.5 2.5l-.94 2.06-2.06.94zm10 10l.94 2.06.94-2.06 2.06-.94-2.06-.94-.94-2.06-.94 2.06-2.06.94z\"/><path d=\"M17.41 7.96l-1.37-1.37c-.4-.4-.92-.59-1.43-.59-.52 0-1.04.2-1.43.59L10.3 9.45l-7.72 7.72c-.78.78-.78 2.05 0 2.83L4 21.41c.39.39.9.59 1.41.59.51 0 1.02-.2 1.41-.59l7.78-7.78 2.81-2.81c.8-.78.8-2.07 0-2.86zM5.41 20L4 18.59l7.72-7.72 1.47 1.35L5.41 20z\"/>\n",
              "  </svg>\n",
              "      </button>\n",
              "      \n",
              "  <style>\n",
              "    .colab-df-container {\n",
              "      display:flex;\n",
              "      flex-wrap:wrap;\n",
              "      gap: 12px;\n",
              "    }\n",
              "\n",
              "    .colab-df-convert {\n",
              "      background-color: #E8F0FE;\n",
              "      border: none;\n",
              "      border-radius: 50%;\n",
              "      cursor: pointer;\n",
              "      display: none;\n",
              "      fill: #1967D2;\n",
              "      height: 32px;\n",
              "      padding: 0 0 0 0;\n",
              "      width: 32px;\n",
              "    }\n",
              "\n",
              "    .colab-df-convert:hover {\n",
              "      background-color: #E2EBFA;\n",
              "      box-shadow: 0px 1px 2px rgba(60, 64, 67, 0.3), 0px 1px 3px 1px rgba(60, 64, 67, 0.15);\n",
              "      fill: #174EA6;\n",
              "    }\n",
              "\n",
              "    [theme=dark] .colab-df-convert {\n",
              "      background-color: #3B4455;\n",
              "      fill: #D2E3FC;\n",
              "    }\n",
              "\n",
              "    [theme=dark] .colab-df-convert:hover {\n",
              "      background-color: #434B5C;\n",
              "      box-shadow: 0px 1px 3px 1px rgba(0, 0, 0, 0.15);\n",
              "      filter: drop-shadow(0px 1px 2px rgba(0, 0, 0, 0.3));\n",
              "      fill: #FFFFFF;\n",
              "    }\n",
              "  </style>\n",
              "\n",
              "      <script>\n",
              "        const buttonEl =\n",
              "          document.querySelector('#df-e26ff974-fb02-49cd-9a41-f0bf4d6c9df3 button.colab-df-convert');\n",
              "        buttonEl.style.display =\n",
              "          google.colab.kernel.accessAllowed ? 'block' : 'none';\n",
              "\n",
              "        async function convertToInteractive(key) {\n",
              "          const element = document.querySelector('#df-e26ff974-fb02-49cd-9a41-f0bf4d6c9df3');\n",
              "          const dataTable =\n",
              "            await google.colab.kernel.invokeFunction('convertToInteractive',\n",
              "                                                     [key], {});\n",
              "          if (!dataTable) return;\n",
              "\n",
              "          const docLinkHtml = 'Like what you see? Visit the ' +\n",
              "            '<a target=\"_blank\" href=https://colab.research.google.com/notebooks/data_table.ipynb>data table notebook</a>'\n",
              "            + ' to learn more about interactive tables.';\n",
              "          element.innerHTML = '';\n",
              "          dataTable['output_type'] = 'display_data';\n",
              "          await google.colab.output.renderOutput(dataTable, element);\n",
              "          const docLink = document.createElement('div');\n",
              "          docLink.innerHTML = docLinkHtml;\n",
              "          element.appendChild(docLink);\n",
              "        }\n",
              "      </script>\n",
              "    </div>\n",
              "  </div>\n",
              "  "
            ]
          },
          "metadata": {},
          "execution_count": 45
        }
      ]
    },
    {
      "cell_type": "code",
      "source": [
        "#df[df[['Close']].isnull()]"
      ],
      "metadata": {
        "id": "2o7sMFLuCu2s"
      },
      "execution_count": null,
      "outputs": []
    },
    {
      "cell_type": "code",
      "source": [
        "decomposicao = seasonal_decompose(df[['Close']].fillna(method=\"ffill\"),period=30, model='additive', extrapolate_trend=30 )"
      ],
      "metadata": {
        "id": "ec--d1V_DVYU"
      },
      "execution_count": null,
      "outputs": []
    },
    {
      "cell_type": "code",
      "source": [
        "decomposicao_multi = seasonal_decompose(df[['Close']].fillna(method=\"ffill\"),period=30, model='multiplicative', extrapolate_trend=30 )"
      ],
      "metadata": {
        "id": "oUd_um_tWQYh"
      },
      "execution_count": null,
      "outputs": []
    },
    {
      "cell_type": "code",
      "source": [
        "df[['Close']].plot(figsize=(15,10))"
      ],
      "metadata": {
        "id": "8pgsjYS5j7tn",
        "colab": {
          "base_uri": "https://localhost:8080/",
          "height": 588
        },
        "outputId": "944d447a-aa51-4a1a-f52b-f1f11d34aaed"
      },
      "execution_count": null,
      "outputs": [
        {
          "output_type": "execute_result",
          "data": {
            "text/plain": [
              "<matplotlib.axes._subplots.AxesSubplot at 0x7feeba2cbb10>"
            ]
          },
          "metadata": {},
          "execution_count": 49
        },
        {
          "output_type": "display_data",
          "data": {
            "text/plain": [
              "<Figure size 1080x720 with 1 Axes>"
            ],
            "image/png": "[encoded data removed]"
          },
          "metadata": {
            "needs_background": "light"
          }
        }
      ]
    },
    {
      "cell_type": "code",
      "source": [
        " decomposicao.seasonal + decomposicao.resid + decomposicao.trend "
      ],
      "metadata": {
        "id": "NzG-h5bjkF5M",
        "colab": {
          "base_uri": "https://localhost:8080/"
        },
        "outputId": "ceb27fbb-7205-4833-82ff-f86a8a19b67f"
      },
      "execution_count": null,
      "outputs": [
        {
          "output_type": "execute_result",
          "data": {
            "text/plain": [
              "Date\n",
              "2020-01-02 00:00:00-03:00    12.111217\n",
              "2020-01-03 00:00:00-03:00    11.933982\n",
              "2020-01-06 00:00:00-03:00    11.908658\n",
              "2020-01-07 00:00:00-03:00    11.748302\n",
              "2020-01-08 00:00:00-03:00    11.571068\n",
              "                               ...    \n",
              "2022-10-06 00:00:00-03:00    10.300000\n",
              "2022-10-07 00:00:00-03:00    10.230000\n",
              "2022-10-10 00:00:00-03:00    10.210000\n",
              "2022-10-11 00:00:00-03:00    10.080000\n",
              "2022-10-13 00:00:00-03:00    10.020000\n",
              "Length: 693, dtype: float64"
            ]
          },
          "metadata": {},
          "execution_count": 50
        }
      ]
    },
    {
      "cell_type": "code",
      "source": [
        "decomposicao.trend.iloc[0:5]"
      ],
      "metadata": {
        "id": "vVQZWPwrxxqq",
        "colab": {
          "base_uri": "https://localhost:8080/"
        },
        "outputId": "d06cfbda-708a-4db3-ed9d-9ac878d8ea41"
      },
      "execution_count": null,
      "outputs": [
        {
          "output_type": "execute_result",
          "data": {
            "text/plain": [
              "Date\n",
              "2020-01-02 00:00:00-03:00    12.505797\n",
              "2020-01-03 00:00:00-03:00    12.441537\n",
              "2020-01-06 00:00:00-03:00    12.377277\n",
              "2020-01-07 00:00:00-03:00    12.313016\n",
              "2020-01-08 00:00:00-03:00    12.248756\n",
              "Name: trend, dtype: float64"
            ]
          },
          "metadata": {},
          "execution_count": 51
        }
      ]
    },
    {
      "cell_type": "code",
      "source": [
        "decomposicao.plot() ;\n"
      ],
      "metadata": {
        "id": "aJG6tTb1VbTW",
        "colab": {
          "base_uri": "https://localhost:8080/",
          "height": 297
        },
        "outputId": "a93f0011-df5f-4cd6-f251-f97e0e0990ae"
      },
      "execution_count": null,
      "outputs": [
        {
          "output_type": "display_data",
          "data": {
            "text/plain": [
              "<Figure size 432x288 with 4 Axes>"
            ],
            "image/png": "[encoded data removed]"
          },
          "metadata": {
            "needs_background": "light"
          }
        }
      ]
    },
    {
      "cell_type": "code",
      "source": [
        "decomposicao.seasonal"
      ],
      "metadata": {
        "id": "fti1p7igWgtN",
        "colab": {
          "base_uri": "https://localhost:8080/"
        },
        "outputId": "9f8f56d3-10f0-405a-e2a5-a8ca1a788e04"
      },
      "execution_count": null,
      "outputs": [
        {
          "output_type": "execute_result",
          "data": {
            "text/plain": [
              "Date\n",
              "2020-01-02 00:00:00-03:00   -0.042256\n",
              "2020-01-03 00:00:00-03:00   -0.037284\n",
              "2020-01-06 00:00:00-03:00   -0.069955\n",
              "2020-01-07 00:00:00-03:00   -0.070941\n",
              "2020-01-08 00:00:00-03:00   -0.050309\n",
              "                               ...   \n",
              "2022-10-06 00:00:00-03:00    0.001197\n",
              "2022-10-07 00:00:00-03:00   -0.033911\n",
              "2022-10-10 00:00:00-03:00   -0.042256\n",
              "2022-10-11 00:00:00-03:00   -0.037284\n",
              "2022-10-13 00:00:00-03:00   -0.069955\n",
              "Name: seasonal, Length: 693, dtype: float64"
            ]
          },
          "metadata": {},
          "execution_count": 53
        }
      ]
    },
    {
      "cell_type": "code",
      "source": [
        "decomposicao_multi.seasonal"
      ],
      "metadata": {
        "id": "9dLEVT7gWlLE",
        "colab": {
          "base_uri": "https://localhost:8080/"
        },
        "outputId": "0102e724-ea19-47d2-e505-30ed968995e2"
      },
      "execution_count": null,
      "outputs": [
        {
          "output_type": "execute_result",
          "data": {
            "text/plain": [
              "Date\n",
              "2020-01-02 00:00:00-03:00    0.995154\n",
              "2020-01-03 00:00:00-03:00    0.995645\n",
              "2020-01-06 00:00:00-03:00    0.991870\n",
              "2020-01-07 00:00:00-03:00    0.991973\n",
              "2020-01-08 00:00:00-03:00    0.994055\n",
              "                               ...   \n",
              "2022-10-06 00:00:00-03:00    0.998813\n",
              "2022-10-07 00:00:00-03:00    0.994735\n",
              "2022-10-10 00:00:00-03:00    0.995154\n",
              "2022-10-11 00:00:00-03:00    0.995645\n",
              "2022-10-13 00:00:00-03:00    0.991870\n",
              "Name: seasonal, Length: 693, dtype: float64"
            ]
          },
          "metadata": {},
          "execution_count": 54
        }
      ]
    },
    {
      "cell_type": "code",
      "source": [
        "min(decomposicao_multi.resid)"
      ],
      "metadata": {
        "id": "Brj6if6MW9jo",
        "colab": {
          "base_uri": "https://localhost:8080/"
        },
        "outputId": "b9270714-41ef-44f1-bc18-807002a9826f"
      },
      "execution_count": null,
      "outputs": [
        {
          "output_type": "execute_result",
          "data": {
            "text/plain": [
              "0.7922819113327965"
            ]
          },
          "metadata": {},
          "execution_count": 55
        }
      ]
    },
    {
      "cell_type": "code",
      "source": [
        "ax , fig = plt.subplots (figsize =(12,8) )\n",
        "plt.plot(decomposicao.observed)\n",
        "plt.plot(decomposicao.trend)\n"
      ],
      "metadata": {
        "id": "jFQVAz0KXDvI",
        "colab": {
          "base_uri": "https://localhost:8080/",
          "height": 500
        },
        "outputId": "b5d01523-22b2-4714-eb81-5c547a7fc7d7"
      },
      "execution_count": null,
      "outputs": [
        {
          "output_type": "execute_result",
          "data": {
            "text/plain": [
              "[<matplotlib.lines.Line2D at 0x7feea078aad0>]"
            ]
          },
          "metadata": {},
          "execution_count": 56
        },
        {
          "output_type": "display_data",
          "data": {
            "text/plain": [
              "<Figure size 864x576 with 1 Axes>"
            ],
            "image/png": "[encoded data removed]"
          },
          "metadata": {
            "needs_background": "light"
          }
        }
      ]
    },
    {
      "cell_type": "code",
      "source": [
        "fig, (ax1,ax2,ax3, ax4) = plt.subplots(4,1, figsize= (18,8))\n",
        "decomposicao.observed.plot(ax=ax1)\n",
        "decomposicao.trend.plot(ax=ax2)\n",
        "decomposicao.seasonal.plot(ax=ax3)\n",
        "decomposicao.resid.plot(ax= ax4)\n",
        "plt.tight_layout()\n",
        "#ajusta para nao comer informacoes do eixo x"
      ],
      "metadata": {
        "id": "fxiiAxDdXcBg",
        "colab": {
          "base_uri": "https://localhost:8080/",
          "height": 585
        },
        "outputId": "29d4a42f-8407-4577-ed74-065150ca3b03"
      },
      "execution_count": null,
      "outputs": [
        {
          "output_type": "display_data",
          "data": {
            "text/plain": [
              "<Figure size 1296x576 with 4 Axes>"
            ],
            "image/png": "[encoded data removed]"
          },
          "metadata": {
            "needs_background": "light"
          }
        }
      ]
    },
    {
      "cell_type": "markdown",
      "source": [
        "## 3) Calculo de média movel "
      ],
      "metadata": {
        "id": "E4C0RdF_O26z"
      }
    },
    {
      "cell_type": "code",
      "source": [
        "df['Close'].rolling(7).mean() #calcula a media movel no periodo escolhido #os primeiros ficam nulos porque precisa de 7 dias para atribuir valor"
      ],
      "metadata": {
        "id": "30EiSM5wXSMF",
        "colab": {
          "base_uri": "https://localhost:8080/"
        },
        "outputId": "c60aa2f4-164f-4684-b631-65c77df060c1"
      },
      "execution_count": null,
      "outputs": [
        {
          "output_type": "execute_result",
          "data": {
            "text/plain": [
              "Date\n",
              "2020-01-02 00:00:00-03:00          NaN\n",
              "2020-01-03 00:00:00-03:00          NaN\n",
              "2020-01-06 00:00:00-03:00          NaN\n",
              "2020-01-07 00:00:00-03:00          NaN\n",
              "2020-01-08 00:00:00-03:00          NaN\n",
              "                               ...    \n",
              "2022-10-06 00:00:00-03:00    10.031428\n",
              "2022-10-07 00:00:00-03:00    10.137143\n",
              "2022-10-10 00:00:00-03:00    10.222857\n",
              "2022-10-11 00:00:00-03:00    10.272857\n",
              "2022-10-13 00:00:00-03:00    10.215714\n",
              "Name: Close, Length: 693, dtype: float64"
            ]
          },
          "metadata": {},
          "execution_count": 58
        }
      ]
    },
    {
      "cell_type": "code",
      "source": [
        "media_movel7d = df['Close'].rolling(7).mean()\n",
        "media_movel14d = df['Close'].rolling(14).mean()\n",
        "media_movel21d = df['Close'].rolling(21).mean()\n"
      ],
      "metadata": {
        "id": "YTlqF_hHZ302"
      },
      "execution_count": null,
      "outputs": []
    },
    {
      "cell_type": "code",
      "source": [
        "fig, ax= plt.subplots(figsize= (12,5))\n",
        "plt.plot(media_movel7d,'orange')\n",
        "plt.plot(media_movel14d, 'red')\n",
        "plt.plot(media_movel21d, 'black')\n"
      ],
      "metadata": {
        "id": "UBTy1HimaS-Q",
        "colab": {
          "base_uri": "https://localhost:8080/",
          "height": 337
        },
        "outputId": "085df1a5-f565-4197-b696-37913ad3edf0"
      },
      "execution_count": null,
      "outputs": [
        {
          "output_type": "execute_result",
          "data": {
            "text/plain": [
              "[<matplotlib.lines.Line2D at 0x7feea04fcb90>]"
            ]
          },
          "metadata": {},
          "execution_count": 60
        },
        {
          "output_type": "display_data",
          "data": {
            "text/plain": [
              "<Figure size 864x360 with 1 Axes>"
            ],
            "image/png": "[encoded data removed]"
          },
          "metadata": {
            "needs_background": "light"
          }
        }
      ]
    },
    {
      "cell_type": "markdown",
      "source": [
        "## 4) EXTRAÇÃO DE FEATURES"
      ],
      "metadata": {
        "id": "gDlZcPImNr6J"
      }
    },
    {
      "cell_type": "code",
      "source": [
        "df.head()"
      ],
      "metadata": {
        "id": "nYbG0ZVGPN_A",
        "colab": {
          "base_uri": "https://localhost:8080/",
          "height": 238
        },
        "outputId": "56634785-68fb-46c1-ace6-0e1208a47e3f"
      },
      "execution_count": null,
      "outputs": [
        {
          "output_type": "execute_result",
          "data": {
            "text/plain": [
              "                                Open       High        Low      Close  \\\n",
              "Date                                                                    \n",
              "2020-01-02 00:00:00-03:00  11.933980  12.136538  11.874901  12.111217   \n",
              "2020-01-03 00:00:00-03:00  11.984621  12.119659  11.917103  11.933982   \n",
              "2020-01-06 00:00:00-03:00  11.917098  11.993056  11.824260  11.908658   \n",
              "2020-01-07 00:00:00-03:00  11.917101  11.933980  11.663904  11.748302   \n",
              "2020-01-08 00:00:00-03:00  11.773625  11.858024  11.545748  11.571068   \n",
              "\n",
              "                               Volume  Dividends  Stock Splits  \n",
              "Date                                                            \n",
              "2020-01-02 00:00:00-03:00  19199040.0        0.0           0.0  \n",
              "2020-01-03 00:00:00-03:00  22913100.0        0.0           0.0  \n",
              "2020-01-06 00:00:00-03:00  21286440.0        0.0           0.0  \n",
              "2020-01-07 00:00:00-03:00  21072555.0        0.0           0.0  \n",
              "2020-01-08 00:00:00-03:00  20354565.0        0.0           0.0  "
            ],
            "text/html": [
              "\n",
              "  <div id=\"df-52e87cc5-727b-4bcd-9000-d399dd8fe166\">\n",
              "    <div class=\"colab-df-container\">\n",
              "      <div>\n",
              "<style scoped>\n",
              "    .dataframe tbody tr th:only-of-type {\n",
              "        vertical-align: middle;\n",
              "    }\n",
              "\n",
              "    .dataframe tbody tr th {\n",
              "        vertical-align: top;\n",
              "    }\n",
              "\n",
              "    .dataframe thead th {\n",
              "        text-align: right;\n",
              "    }\n",
              "</style>\n",
              "<table border=\"1\" class=\"dataframe\">\n",
              "  <thead>\n",
              "    <tr style=\"text-align: right;\">\n",
              "      <th></th>\n",
              "      <th>Open</th>\n",
              "      <th>High</th>\n",
              "      <th>Low</th>\n",
              "      <th>Close</th>\n",
              "      <th>Volume</th>\n",
              "      <th>Dividends</th>\n",
              "      <th>Stock Splits</th>\n",
              "    </tr>\n",
              "    <tr>\n",
              "      <th>Date</th>\n",
              "      <th></th>\n",
              "      <th></th>\n",
              "      <th></th>\n",
              "      <th></th>\n",
              "      <th></th>\n",
              "      <th></th>\n",
              "      <th></th>\n",
              "    </tr>\n",
              "  </thead>\n",
              "  <tbody>\n",
              "    <tr>\n",
              "      <th>2020-01-02 00:00:00-03:00</th>\n",
              "      <td>11.933980</td>\n",
              "      <td>12.136538</td>\n",
              "      <td>11.874901</td>\n",
              "      <td>12.111217</td>\n",
              "      <td>19199040.0</td>\n",
              "      <td>0.0</td>\n",
              "      <td>0.0</td>\n",
              "    </tr>\n",
              "    <tr>\n",
              "      <th>2020-01-03 00:00:00-03:00</th>\n",
              "      <td>11.984621</td>\n",
              "      <td>12.119659</td>\n",
              "      <td>11.917103</td>\n",
              "      <td>11.933982</td>\n",
              "      <td>22913100.0</td>\n",
              "      <td>0.0</td>\n",
              "      <td>0.0</td>\n",
              "    </tr>\n",
              "    <tr>\n",
              "      <th>2020-01-06 00:00:00-03:00</th>\n",
              "      <td>11.917098</td>\n",
              "      <td>11.993056</td>\n",
              "      <td>11.824260</td>\n",
              "      <td>11.908658</td>\n",
              "      <td>21286440.0</td>\n",
              "      <td>0.0</td>\n",
              "      <td>0.0</td>\n",
              "    </tr>\n",
              "    <tr>\n",
              "      <th>2020-01-07 00:00:00-03:00</th>\n",
              "      <td>11.917101</td>\n",
              "      <td>11.933980</td>\n",
              "      <td>11.663904</td>\n",
              "      <td>11.748302</td>\n",
              "      <td>21072555.0</td>\n",
              "      <td>0.0</td>\n",
              "      <td>0.0</td>\n",
              "    </tr>\n",
              "    <tr>\n",
              "      <th>2020-01-08 00:00:00-03:00</th>\n",
              "      <td>11.773625</td>\n",
              "      <td>11.858024</td>\n",
              "      <td>11.545748</td>\n",
              "      <td>11.571068</td>\n",
              "      <td>20354565.0</td>\n",
              "      <td>0.0</td>\n",
              "      <td>0.0</td>\n",
              "    </tr>\n",
              "  </tbody>\n",
              "</table>\n",
              "</div>\n",
              "      <button class=\"colab-df-convert\" onclick=\"convertToInteractive('df-52e87cc5-727b-4bcd-9000-d399dd8fe166')\"\n",
              "              title=\"Convert this dataframe to an interactive table.\"\n",
              "              style=\"display:none;\">\n",
              "        \n",
              "  <svg xmlns=\"http://www.w3.org/2000/svg\" height=\"24px\"viewBox=\"0 0 24 24\"\n",
              "       width=\"24px\">\n",
              "    <path d=\"M0 0h24v24H0V0z\" fill=\"none\"/>\n",
              "    <path d=\"M18.56 5.44l.94 2.06.94-2.06 2.06-.94-2.06-.94-.94-2.06-.94 2.06-2.06.94zm-11 1L8.5 8.5l.94-2.06 2.06-.94-2.06-.94L8.5 2.5l-.94 2.06-2.06.94zm10 10l.94 2.06.94-2.06 2.06-.94-2.06-.94-.94-2.06-.94 2.06-2.06.94z\"/><path d=\"M17.41 7.96l-1.37-1.37c-.4-.4-.92-.59-1.43-.59-.52 0-1.04.2-1.43.59L10.3 9.45l-7.72 7.72c-.78.78-.78 2.05 0 2.83L4 21.41c.39.39.9.59 1.41.59.51 0 1.02-.2 1.41-.59l7.78-7.78 2.81-2.81c.8-.78.8-2.07 0-2.86zM5.41 20L4 18.59l7.72-7.72 1.47 1.35L5.41 20z\"/>\n",
              "  </svg>\n",
              "      </button>\n",
              "      \n",
              "  <style>\n",
              "    .colab-df-container {\n",
              "      display:flex;\n",
              "      flex-wrap:wrap;\n",
              "      gap: 12px;\n",
              "    }\n",
              "\n",
              "    .colab-df-convert {\n",
              "      background-color: #E8F0FE;\n",
              "      border: none;\n",
              "      border-radius: 50%;\n",
              "      cursor: pointer;\n",
              "      display: none;\n",
              "      fill: #1967D2;\n",
              "      height: 32px;\n",
              "      padding: 0 0 0 0;\n",
              "      width: 32px;\n",
              "    }\n",
              "\n",
              "    .colab-df-convert:hover {\n",
              "      background-color: #E2EBFA;\n",
              "      box-shadow: 0px 1px 2px rgba(60, 64, 67, 0.3), 0px 1px 3px 1px rgba(60, 64, 67, 0.15);\n",
              "      fill: #174EA6;\n",
              "    }\n",
              "\n",
              "    [theme=dark] .colab-df-convert {\n",
              "      background-color: #3B4455;\n",
              "      fill: #D2E3FC;\n",
              "    }\n",
              "\n",
              "    [theme=dark] .colab-df-convert:hover {\n",
              "      background-color: #434B5C;\n",
              "      box-shadow: 0px 1px 3px 1px rgba(0, 0, 0, 0.15);\n",
              "      filter: drop-shadow(0px 1px 2px rgba(0, 0, 0, 0.3));\n",
              "      fill: #FFFFFF;\n",
              "    }\n",
              "  </style>\n",
              "\n",
              "      <script>\n",
              "        const buttonEl =\n",
              "          document.querySelector('#df-52e87cc5-727b-4bcd-9000-d399dd8fe166 button.colab-df-convert');\n",
              "        buttonEl.style.display =\n",
              "          google.colab.kernel.accessAllowed ? 'block' : 'none';\n",
              "\n",
              "        async function convertToInteractive(key) {\n",
              "          const element = document.querySelector('#df-52e87cc5-727b-4bcd-9000-d399dd8fe166');\n",
              "          const dataTable =\n",
              "            await google.colab.kernel.invokeFunction('convertToInteractive',\n",
              "                                                     [key], {});\n",
              "          if (!dataTable) return;\n",
              "\n",
              "          const docLinkHtml = 'Like what you see? Visit the ' +\n",
              "            '<a target=\"_blank\" href=https://colab.research.google.com/notebooks/data_table.ipynb>data table notebook</a>'\n",
              "            + ' to learn more about interactive tables.';\n",
              "          element.innerHTML = '';\n",
              "          dataTable['output_type'] = 'display_data';\n",
              "          await google.colab.output.renderOutput(dataTable, element);\n",
              "          const docLink = document.createElement('div');\n",
              "          docLink.innerHTML = docLinkHtml;\n",
              "          element.appendChild(docLink);\n",
              "        }\n",
              "      </script>\n",
              "    </div>\n",
              "  </div>\n",
              "  "
            ]
          },
          "metadata": {},
          "execution_count": 61
        }
      ]
    },
    {
      "cell_type": "code",
      "source": [
        "df.reset_index(inplace=True)"
      ],
      "metadata": {
        "id": "xN_DI-bDPVwD"
      },
      "execution_count": null,
      "outputs": []
    },
    {
      "cell_type": "code",
      "source": [
        "df.head()"
      ],
      "metadata": {
        "id": "8diyafhwPck6",
        "colab": {
          "base_uri": "https://localhost:8080/",
          "height": 206
        },
        "outputId": "092d2d5a-01e1-4c56-b15c-a726a4166be4"
      },
      "execution_count": null,
      "outputs": [
        {
          "output_type": "execute_result",
          "data": {
            "text/plain": [
              "                       Date       Open       High        Low      Close  \\\n",
              "0 2020-01-02 00:00:00-03:00  11.933980  12.136538  11.874901  12.111217   \n",
              "1 2020-01-03 00:00:00-03:00  11.984621  12.119659  11.917103  11.933982   \n",
              "2 2020-01-06 00:00:00-03:00  11.917098  11.993056  11.824260  11.908658   \n",
              "3 2020-01-07 00:00:00-03:00  11.917101  11.933980  11.663904  11.748302   \n",
              "4 2020-01-08 00:00:00-03:00  11.773625  11.858024  11.545748  11.571068   \n",
              "\n",
              "       Volume  Dividends  Stock Splits  \n",
              "0  19199040.0        0.0           0.0  \n",
              "1  22913100.0        0.0           0.0  \n",
              "2  21286440.0        0.0           0.0  \n",
              "3  21072555.0        0.0           0.0  \n",
              "4  20354565.0        0.0           0.0  "
            ],
            "text/html": [
              "\n",
              "  <div id=\"df-74dae814-fb08-4d67-8d0f-cc4e6262bb52\">\n",
              "    <div class=\"colab-df-container\">\n",
              "      <div>\n",
              "<style scoped>\n",
              "    .dataframe tbody tr th:only-of-type {\n",
              "        vertical-align: middle;\n",
              "    }\n",
              "\n",
              "    .dataframe tbody tr th {\n",
              "        vertical-align: top;\n",
              "    }\n",
              "\n",
              "    .dataframe thead th {\n",
              "        text-align: right;\n",
              "    }\n",
              "</style>\n",
              "<table border=\"1\" class=\"dataframe\">\n",
              "  <thead>\n",
              "    <tr style=\"text-align: right;\">\n",
              "      <th></th>\n",
              "      <th>Date</th>\n",
              "      <th>Open</th>\n",
              "      <th>High</th>\n",
              "      <th>Low</th>\n",
              "      <th>Close</th>\n",
              "      <th>Volume</th>\n",
              "      <th>Dividends</th>\n",
              "      <th>Stock Splits</th>\n",
              "    </tr>\n",
              "  </thead>\n",
              "  <tbody>\n",
              "    <tr>\n",
              "      <th>0</th>\n",
              "      <td>2020-01-02 00:00:00-03:00</td>\n",
              "      <td>11.933980</td>\n",
              "      <td>12.136538</td>\n",
              "      <td>11.874901</td>\n",
              "      <td>12.111217</td>\n",
              "      <td>19199040.0</td>\n",
              "      <td>0.0</td>\n",
              "      <td>0.0</td>\n",
              "    </tr>\n",
              "    <tr>\n",
              "      <th>1</th>\n",
              "      <td>2020-01-03 00:00:00-03:00</td>\n",
              "      <td>11.984621</td>\n",
              "      <td>12.119659</td>\n",
              "      <td>11.917103</td>\n",
              "      <td>11.933982</td>\n",
              "      <td>22913100.0</td>\n",
              "      <td>0.0</td>\n",
              "      <td>0.0</td>\n",
              "    </tr>\n",
              "    <tr>\n",
              "      <th>2</th>\n",
              "      <td>2020-01-06 00:00:00-03:00</td>\n",
              "      <td>11.917098</td>\n",
              "      <td>11.993056</td>\n",
              "      <td>11.824260</td>\n",
              "      <td>11.908658</td>\n",
              "      <td>21286440.0</td>\n",
              "      <td>0.0</td>\n",
              "      <td>0.0</td>\n",
              "    </tr>\n",
              "    <tr>\n",
              "      <th>3</th>\n",
              "      <td>2020-01-07 00:00:00-03:00</td>\n",
              "      <td>11.917101</td>\n",
              "      <td>11.933980</td>\n",
              "      <td>11.663904</td>\n",
              "      <td>11.748302</td>\n",
              "      <td>21072555.0</td>\n",
              "      <td>0.0</td>\n",
              "      <td>0.0</td>\n",
              "    </tr>\n",
              "    <tr>\n",
              "      <th>4</th>\n",
              "      <td>2020-01-08 00:00:00-03:00</td>\n",
              "      <td>11.773625</td>\n",
              "      <td>11.858024</td>\n",
              "      <td>11.545748</td>\n",
              "      <td>11.571068</td>\n",
              "      <td>20354565.0</td>\n",
              "      <td>0.0</td>\n",
              "      <td>0.0</td>\n",
              "    </tr>\n",
              "  </tbody>\n",
              "</table>\n",
              "</div>\n",
              "      <button class=\"colab-df-convert\" onclick=\"convertToInteractive('df-74dae814-fb08-4d67-8d0f-cc4e6262bb52')\"\n",
              "              title=\"Convert this dataframe to an interactive table.\"\n",
              "              style=\"display:none;\">\n",
              "        \n",
              "  <svg xmlns=\"http://www.w3.org/2000/svg\" height=\"24px\"viewBox=\"0 0 24 24\"\n",
              "       width=\"24px\">\n",
              "    <path d=\"M0 0h24v24H0V0z\" fill=\"none\"/>\n",
              "    <path d=\"M18.56 5.44l.94 2.06.94-2.06 2.06-.94-2.06-.94-.94-2.06-.94 2.06-2.06.94zm-11 1L8.5 8.5l.94-2.06 2.06-.94-2.06-.94L8.5 2.5l-.94 2.06-2.06.94zm10 10l.94 2.06.94-2.06 2.06-.94-2.06-.94-.94-2.06-.94 2.06-2.06.94z\"/><path d=\"M17.41 7.96l-1.37-1.37c-.4-.4-.92-.59-1.43-.59-.52 0-1.04.2-1.43.59L10.3 9.45l-7.72 7.72c-.78.78-.78 2.05 0 2.83L4 21.41c.39.39.9.59 1.41.59.51 0 1.02-.2 1.41-.59l7.78-7.78 2.81-2.81c.8-.78.8-2.07 0-2.86zM5.41 20L4 18.59l7.72-7.72 1.47 1.35L5.41 20z\"/>\n",
              "  </svg>\n",
              "      </button>\n",
              "      \n",
              "  <style>\n",
              "    .colab-df-container {\n",
              "      display:flex;\n",
              "      flex-wrap:wrap;\n",
              "      gap: 12px;\n",
              "    }\n",
              "\n",
              "    .colab-df-convert {\n",
              "      background-color: #E8F0FE;\n",
              "      border: none;\n",
              "      border-radius: 50%;\n",
              "      cursor: pointer;\n",
              "      display: none;\n",
              "      fill: #1967D2;\n",
              "      height: 32px;\n",
              "      padding: 0 0 0 0;\n",
              "      width: 32px;\n",
              "    }\n",
              "\n",
              "    .colab-df-convert:hover {\n",
              "      background-color: #E2EBFA;\n",
              "      box-shadow: 0px 1px 2px rgba(60, 64, 67, 0.3), 0px 1px 3px 1px rgba(60, 64, 67, 0.15);\n",
              "      fill: #174EA6;\n",
              "    }\n",
              "\n",
              "    [theme=dark] .colab-df-convert {\n",
              "      background-color: #3B4455;\n",
              "      fill: #D2E3FC;\n",
              "    }\n",
              "\n",
              "    [theme=dark] .colab-df-convert:hover {\n",
              "      background-color: #434B5C;\n",
              "      box-shadow: 0px 1px 3px 1px rgba(0, 0, 0, 0.15);\n",
              "      filter: drop-shadow(0px 1px 2px rgba(0, 0, 0, 0.3));\n",
              "      fill: #FFFFFF;\n",
              "    }\n",
              "  </style>\n",
              "\n",
              "      <script>\n",
              "        const buttonEl =\n",
              "          document.querySelector('#df-74dae814-fb08-4d67-8d0f-cc4e6262bb52 button.colab-df-convert');\n",
              "        buttonEl.style.display =\n",
              "          google.colab.kernel.accessAllowed ? 'block' : 'none';\n",
              "\n",
              "        async function convertToInteractive(key) {\n",
              "          const element = document.querySelector('#df-74dae814-fb08-4d67-8d0f-cc4e6262bb52');\n",
              "          const dataTable =\n",
              "            await google.colab.kernel.invokeFunction('convertToInteractive',\n",
              "                                                     [key], {});\n",
              "          if (!dataTable) return;\n",
              "\n",
              "          const docLinkHtml = 'Like what you see? Visit the ' +\n",
              "            '<a target=\"_blank\" href=https://colab.research.google.com/notebooks/data_table.ipynb>data table notebook</a>'\n",
              "            + ' to learn more about interactive tables.';\n",
              "          element.innerHTML = '';\n",
              "          dataTable['output_type'] = 'display_data';\n",
              "          await google.colab.output.renderOutput(dataTable, element);\n",
              "          const docLink = document.createElement('div');\n",
              "          docLink.innerHTML = docLinkHtml;\n",
              "          element.appendChild(docLink);\n",
              "        }\n",
              "      </script>\n",
              "    </div>\n",
              "  </div>\n",
              "  "
            ]
          },
          "metadata": {},
          "execution_count": 63
        }
      ]
    },
    {
      "cell_type": "code",
      "source": [
        "df['Date'].dt.year"
      ],
      "metadata": {
        "id": "Cbi3A8vYQ6Qf",
        "colab": {
          "base_uri": "https://localhost:8080/"
        },
        "outputId": "ee974efd-c8d7-42e7-c924-e682b0776f98"
      },
      "execution_count": null,
      "outputs": [
        {
          "output_type": "execute_result",
          "data": {
            "text/plain": [
              "0      2020\n",
              "1      2020\n",
              "2      2020\n",
              "3      2020\n",
              "4      2020\n",
              "       ... \n",
              "688    2022\n",
              "689    2022\n",
              "690    2022\n",
              "691    2022\n",
              "692    2022\n",
              "Name: Date, Length: 693, dtype: int64"
            ]
          },
          "metadata": {},
          "execution_count": 64
        }
      ]
    },
    {
      "cell_type": "code",
      "source": [
        "#agora criando as fatures para cada periodo\n",
        "df['year']= df ['Date'].dt.year\n",
        "df['mont']= df ['Date'].dt.month\n",
        "df['day'] = df ['Date'].dt.day"
      ],
      "metadata": {
        "id": "Y0m4uqNgRAzz"
      },
      "execution_count": null,
      "outputs": []
    },
    {
      "cell_type": "code",
      "source": [
        "df.head()"
      ],
      "metadata": {
        "id": "-yP5RxhESkZW",
        "colab": {
          "base_uri": "https://localhost:8080/",
          "height": 206
        },
        "outputId": "9dcc49f2-668b-403a-9acb-33c89510fa1a"
      },
      "execution_count": null,
      "outputs": [
        {
          "output_type": "execute_result",
          "data": {
            "text/plain": [
              "                       Date       Open       High        Low      Close  \\\n",
              "0 2020-01-02 00:00:00-03:00  11.933980  12.136538  11.874901  12.111217   \n",
              "1 2020-01-03 00:00:00-03:00  11.984621  12.119659  11.917103  11.933982   \n",
              "2 2020-01-06 00:00:00-03:00  11.917098  11.993056  11.824260  11.908658   \n",
              "3 2020-01-07 00:00:00-03:00  11.917101  11.933980  11.663904  11.748302   \n",
              "4 2020-01-08 00:00:00-03:00  11.773625  11.858024  11.545748  11.571068   \n",
              "\n",
              "       Volume  Dividends  Stock Splits  year  mont  day  \n",
              "0  19199040.0        0.0           0.0  2020     1    2  \n",
              "1  22913100.0        0.0           0.0  2020     1    3  \n",
              "2  21286440.0        0.0           0.0  2020     1    6  \n",
              "3  21072555.0        0.0           0.0  2020     1    7  \n",
              "4  20354565.0        0.0           0.0  2020     1    8  "
            ],
            "text/html": [
              "\n",
              "  <div id=\"df-be7d2536-663b-4b62-8f0b-67aa3e2bd044\">\n",
              "    <div class=\"colab-df-container\">\n",
              "      <div>\n",
              "<style scoped>\n",
              "    .dataframe tbody tr th:only-of-type {\n",
              "        vertical-align: middle;\n",
              "    }\n",
              "\n",
              "    .dataframe tbody tr th {\n",
              "        vertical-align: top;\n",
              "    }\n",
              "\n",
              "    .dataframe thead th {\n",
              "        text-align: right;\n",
              "    }\n",
              "</style>\n",
              "<table border=\"1\" class=\"dataframe\">\n",
              "  <thead>\n",
              "    <tr style=\"text-align: right;\">\n",
              "      <th></th>\n",
              "      <th>Date</th>\n",
              "      <th>Open</th>\n",
              "      <th>High</th>\n",
              "      <th>Low</th>\n",
              "      <th>Close</th>\n",
              "      <th>Volume</th>\n",
              "      <th>Dividends</th>\n",
              "      <th>Stock Splits</th>\n",
              "      <th>year</th>\n",
              "      <th>mont</th>\n",
              "      <th>day</th>\n",
              "    </tr>\n",
              "  </thead>\n",
              "  <tbody>\n",
              "    <tr>\n",
              "      <th>0</th>\n",
              "      <td>2020-01-02 00:00:00-03:00</td>\n",
              "      <td>11.933980</td>\n",
              "      <td>12.136538</td>\n",
              "      <td>11.874901</td>\n",
              "      <td>12.111217</td>\n",
              "      <td>19199040.0</td>\n",
              "      <td>0.0</td>\n",
              "      <td>0.0</td>\n",
              "      <td>2020</td>\n",
              "      <td>1</td>\n",
              "      <td>2</td>\n",
              "    </tr>\n",
              "    <tr>\n",
              "      <th>1</th>\n",
              "      <td>2020-01-03 00:00:00-03:00</td>\n",
              "      <td>11.984621</td>\n",
              "      <td>12.119659</td>\n",
              "      <td>11.917103</td>\n",
              "      <td>11.933982</td>\n",
              "      <td>22913100.0</td>\n",
              "      <td>0.0</td>\n",
              "      <td>0.0</td>\n",
              "      <td>2020</td>\n",
              "      <td>1</td>\n",
              "      <td>3</td>\n",
              "    </tr>\n",
              "    <tr>\n",
              "      <th>2</th>\n",
              "      <td>2020-01-06 00:00:00-03:00</td>\n",
              "      <td>11.917098</td>\n",
              "      <td>11.993056</td>\n",
              "      <td>11.824260</td>\n",
              "      <td>11.908658</td>\n",
              "      <td>21286440.0</td>\n",
              "      <td>0.0</td>\n",
              "      <td>0.0</td>\n",
              "      <td>2020</td>\n",
              "      <td>1</td>\n",
              "      <td>6</td>\n",
              "    </tr>\n",
              "    <tr>\n",
              "      <th>3</th>\n",
              "      <td>2020-01-07 00:00:00-03:00</td>\n",
              "      <td>11.917101</td>\n",
              "      <td>11.933980</td>\n",
              "      <td>11.663904</td>\n",
              "      <td>11.748302</td>\n",
              "      <td>21072555.0</td>\n",
              "      <td>0.0</td>\n",
              "      <td>0.0</td>\n",
              "      <td>2020</td>\n",
              "      <td>1</td>\n",
              "      <td>7</td>\n",
              "    </tr>\n",
              "    <tr>\n",
              "      <th>4</th>\n",
              "      <td>2020-01-08 00:00:00-03:00</td>\n",
              "      <td>11.773625</td>\n",
              "      <td>11.858024</td>\n",
              "      <td>11.545748</td>\n",
              "      <td>11.571068</td>\n",
              "      <td>20354565.0</td>\n",
              "      <td>0.0</td>\n",
              "      <td>0.0</td>\n",
              "      <td>2020</td>\n",
              "      <td>1</td>\n",
              "      <td>8</td>\n",
              "    </tr>\n",
              "  </tbody>\n",
              "</table>\n",
              "</div>\n",
              "      <button class=\"colab-df-convert\" onclick=\"convertToInteractive('df-be7d2536-663b-4b62-8f0b-67aa3e2bd044')\"\n",
              "              title=\"Convert this dataframe to an interactive table.\"\n",
              "              style=\"display:none;\">\n",
              "        \n",
              "  <svg xmlns=\"http://www.w3.org/2000/svg\" height=\"24px\"viewBox=\"0 0 24 24\"\n",
              "       width=\"24px\">\n",
              "    <path d=\"M0 0h24v24H0V0z\" fill=\"none\"/>\n",
              "    <path d=\"M18.56 5.44l.94 2.06.94-2.06 2.06-.94-2.06-.94-.94-2.06-.94 2.06-2.06.94zm-11 1L8.5 8.5l.94-2.06 2.06-.94-2.06-.94L8.5 2.5l-.94 2.06-2.06.94zm10 10l.94 2.06.94-2.06 2.06-.94-2.06-.94-.94-2.06-.94 2.06-2.06.94z\"/><path d=\"M17.41 7.96l-1.37-1.37c-.4-.4-.92-.59-1.43-.59-.52 0-1.04.2-1.43.59L10.3 9.45l-7.72 7.72c-.78.78-.78 2.05 0 2.83L4 21.41c.39.39.9.59 1.41.59.51 0 1.02-.2 1.41-.59l7.78-7.78 2.81-2.81c.8-.78.8-2.07 0-2.86zM5.41 20L4 18.59l7.72-7.72 1.47 1.35L5.41 20z\"/>\n",
              "  </svg>\n",
              "      </button>\n",
              "      \n",
              "  <style>\n",
              "    .colab-df-container {\n",
              "      display:flex;\n",
              "      flex-wrap:wrap;\n",
              "      gap: 12px;\n",
              "    }\n",
              "\n",
              "    .colab-df-convert {\n",
              "      background-color: #E8F0FE;\n",
              "      border: none;\n",
              "      border-radius: 50%;\n",
              "      cursor: pointer;\n",
              "      display: none;\n",
              "      fill: #1967D2;\n",
              "      height: 32px;\n",
              "      padding: 0 0 0 0;\n",
              "      width: 32px;\n",
              "    }\n",
              "\n",
              "    .colab-df-convert:hover {\n",
              "      background-color: #E2EBFA;\n",
              "      box-shadow: 0px 1px 2px rgba(60, 64, 67, 0.3), 0px 1px 3px 1px rgba(60, 64, 67, 0.15);\n",
              "      fill: #174EA6;\n",
              "    }\n",
              "\n",
              "    [theme=dark] .colab-df-convert {\n",
              "      background-color: #3B4455;\n",
              "      fill: #D2E3FC;\n",
              "    }\n",
              "\n",
              "    [theme=dark] .colab-df-convert:hover {\n",
              "      background-color: #434B5C;\n",
              "      box-shadow: 0px 1px 3px 1px rgba(0, 0, 0, 0.15);\n",
              "      filter: drop-shadow(0px 1px 2px rgba(0, 0, 0, 0.3));\n",
              "      fill: #FFFFFF;\n",
              "    }\n",
              "  </style>\n",
              "\n",
              "      <script>\n",
              "        const buttonEl =\n",
              "          document.querySelector('#df-be7d2536-663b-4b62-8f0b-67aa3e2bd044 button.colab-df-convert');\n",
              "        buttonEl.style.display =\n",
              "          google.colab.kernel.accessAllowed ? 'block' : 'none';\n",
              "\n",
              "        async function convertToInteractive(key) {\n",
              "          const element = document.querySelector('#df-be7d2536-663b-4b62-8f0b-67aa3e2bd044');\n",
              "          const dataTable =\n",
              "            await google.colab.kernel.invokeFunction('convertToInteractive',\n",
              "                                                     [key], {});\n",
              "          if (!dataTable) return;\n",
              "\n",
              "          const docLinkHtml = 'Like what you see? Visit the ' +\n",
              "            '<a target=\"_blank\" href=https://colab.research.google.com/notebooks/data_table.ipynb>data table notebook</a>'\n",
              "            + ' to learn more about interactive tables.';\n",
              "          element.innerHTML = '';\n",
              "          dataTable['output_type'] = 'display_data';\n",
              "          await google.colab.output.renderOutput(dataTable, element);\n",
              "          const docLink = document.createElement('div');\n",
              "          docLink.innerHTML = docLinkHtml;\n",
              "          element.appendChild(docLink);\n",
              "        }\n",
              "      </script>\n",
              "    </div>\n",
              "  </div>\n",
              "  "
            ]
          },
          "metadata": {},
          "execution_count": 66
        }
      ]
    },
    {
      "cell_type": "markdown",
      "source": [
        "##4) Calculando a rentabilidade da ação \n",
        "\n",
        "\n",
        "*   Rentabilidade é o preço atual/ preço anterior *100-100\n",
        "\n",
        "\n"
      ],
      "metadata": {
        "id": "OJsj6D0gS25_"
      }
    },
    {
      "cell_type": "code",
      "source": [
        "df[['Close']]"
      ],
      "metadata": {
        "id": "FSV1JnK9TWQC",
        "colab": {
          "base_uri": "https://localhost:8080/",
          "height": 424
        },
        "outputId": "b7926afc-ea7e-4714-d2a8-ec19193692c1"
      },
      "execution_count": null,
      "outputs": [
        {
          "output_type": "execute_result",
          "data": {
            "text/plain": [
              "         Close\n",
              "0    12.111217\n",
              "1    11.933982\n",
              "2    11.908658\n",
              "3    11.748302\n",
              "4    11.571068\n",
              "..         ...\n",
              "688  10.300000\n",
              "689  10.230000\n",
              "690  10.210000\n",
              "691  10.080000\n",
              "692  10.020000\n",
              "\n",
              "[693 rows x 1 columns]"
            ],
            "text/html": [
              "\n",
              "  <div id=\"df-e2ffaf7a-0a04-44d1-9129-c4fe4b94b1d8\">\n",
              "    <div class=\"colab-df-container\">\n",
              "      <div>\n",
              "<style scoped>\n",
              "    .dataframe tbody tr th:only-of-type {\n",
              "        vertical-align: middle;\n",
              "    }\n",
              "\n",
              "    .dataframe tbody tr th {\n",
              "        vertical-align: top;\n",
              "    }\n",
              "\n",
              "    .dataframe thead th {\n",
              "        text-align: right;\n",
              "    }\n",
              "</style>\n",
              "<table border=\"1\" class=\"dataframe\">\n",
              "  <thead>\n",
              "    <tr style=\"text-align: right;\">\n",
              "      <th></th>\n",
              "      <th>Close</th>\n",
              "    </tr>\n",
              "  </thead>\n",
              "  <tbody>\n",
              "    <tr>\n",
              "      <th>0</th>\n",
              "      <td>12.111217</td>\n",
              "    </tr>\n",
              "    <tr>\n",
              "      <th>1</th>\n",
              "      <td>11.933982</td>\n",
              "    </tr>\n",
              "    <tr>\n",
              "      <th>2</th>\n",
              "      <td>11.908658</td>\n",
              "    </tr>\n",
              "    <tr>\n",
              "      <th>3</th>\n",
              "      <td>11.748302</td>\n",
              "    </tr>\n",
              "    <tr>\n",
              "      <th>4</th>\n",
              "      <td>11.571068</td>\n",
              "    </tr>\n",
              "    <tr>\n",
              "      <th>...</th>\n",
              "      <td>...</td>\n",
              "    </tr>\n",
              "    <tr>\n",
              "      <th>688</th>\n",
              "      <td>10.300000</td>\n",
              "    </tr>\n",
              "    <tr>\n",
              "      <th>689</th>\n",
              "      <td>10.230000</td>\n",
              "    </tr>\n",
              "    <tr>\n",
              "      <th>690</th>\n",
              "      <td>10.210000</td>\n",
              "    </tr>\n",
              "    <tr>\n",
              "      <th>691</th>\n",
              "      <td>10.080000</td>\n",
              "    </tr>\n",
              "    <tr>\n",
              "      <th>692</th>\n",
              "      <td>10.020000</td>\n",
              "    </tr>\n",
              "  </tbody>\n",
              "</table>\n",
              "<p>693 rows × 1 columns</p>\n",
              "</div>\n",
              "      <button class=\"colab-df-convert\" onclick=\"convertToInteractive('df-e2ffaf7a-0a04-44d1-9129-c4fe4b94b1d8')\"\n",
              "              title=\"Convert this dataframe to an interactive table.\"\n",
              "              style=\"display:none;\">\n",
              "        \n",
              "  <svg xmlns=\"http://www.w3.org/2000/svg\" height=\"24px\"viewBox=\"0 0 24 24\"\n",
              "       width=\"24px\">\n",
              "    <path d=\"M0 0h24v24H0V0z\" fill=\"none\"/>\n",
              "    <path d=\"M18.56 5.44l.94 2.06.94-2.06 2.06-.94-2.06-.94-.94-2.06-.94 2.06-2.06.94zm-11 1L8.5 8.5l.94-2.06 2.06-.94-2.06-.94L8.5 2.5l-.94 2.06-2.06.94zm10 10l.94 2.06.94-2.06 2.06-.94-2.06-.94-.94-2.06-.94 2.06-2.06.94z\"/><path d=\"M17.41 7.96l-1.37-1.37c-.4-.4-.92-.59-1.43-.59-.52 0-1.04.2-1.43.59L10.3 9.45l-7.72 7.72c-.78.78-.78 2.05 0 2.83L4 21.41c.39.39.9.59 1.41.59.51 0 1.02-.2 1.41-.59l7.78-7.78 2.81-2.81c.8-.78.8-2.07 0-2.86zM5.41 20L4 18.59l7.72-7.72 1.47 1.35L5.41 20z\"/>\n",
              "  </svg>\n",
              "      </button>\n",
              "      \n",
              "  <style>\n",
              "    .colab-df-container {\n",
              "      display:flex;\n",
              "      flex-wrap:wrap;\n",
              "      gap: 12px;\n",
              "    }\n",
              "\n",
              "    .colab-df-convert {\n",
              "      background-color: #E8F0FE;\n",
              "      border: none;\n",
              "      border-radius: 50%;\n",
              "      cursor: pointer;\n",
              "      display: none;\n",
              "      fill: #1967D2;\n",
              "      height: 32px;\n",
              "      padding: 0 0 0 0;\n",
              "      width: 32px;\n",
              "    }\n",
              "\n",
              "    .colab-df-convert:hover {\n",
              "      background-color: #E2EBFA;\n",
              "      box-shadow: 0px 1px 2px rgba(60, 64, 67, 0.3), 0px 1px 3px 1px rgba(60, 64, 67, 0.15);\n",
              "      fill: #174EA6;\n",
              "    }\n",
              "\n",
              "    [theme=dark] .colab-df-convert {\n",
              "      background-color: #3B4455;\n",
              "      fill: #D2E3FC;\n",
              "    }\n",
              "\n",
              "    [theme=dark] .colab-df-convert:hover {\n",
              "      background-color: #434B5C;\n",
              "      box-shadow: 0px 1px 3px 1px rgba(0, 0, 0, 0.15);\n",
              "      filter: drop-shadow(0px 1px 2px rgba(0, 0, 0, 0.3));\n",
              "      fill: #FFFFFF;\n",
              "    }\n",
              "  </style>\n",
              "\n",
              "      <script>\n",
              "        const buttonEl =\n",
              "          document.querySelector('#df-e2ffaf7a-0a04-44d1-9129-c4fe4b94b1d8 button.colab-df-convert');\n",
              "        buttonEl.style.display =\n",
              "          google.colab.kernel.accessAllowed ? 'block' : 'none';\n",
              "\n",
              "        async function convertToInteractive(key) {\n",
              "          const element = document.querySelector('#df-e2ffaf7a-0a04-44d1-9129-c4fe4b94b1d8');\n",
              "          const dataTable =\n",
              "            await google.colab.kernel.invokeFunction('convertToInteractive',\n",
              "                                                     [key], {});\n",
              "          if (!dataTable) return;\n",
              "\n",
              "          const docLinkHtml = 'Like what you see? Visit the ' +\n",
              "            '<a target=\"_blank\" href=https://colab.research.google.com/notebooks/data_table.ipynb>data table notebook</a>'\n",
              "            + ' to learn more about interactive tables.';\n",
              "          element.innerHTML = '';\n",
              "          dataTable['output_type'] = 'display_data';\n",
              "          await google.colab.output.renderOutput(dataTable, element);\n",
              "          const docLink = document.createElement('div');\n",
              "          docLink.innerHTML = docLinkHtml;\n",
              "          element.appendChild(docLink);\n",
              "        }\n",
              "      </script>\n",
              "    </div>\n",
              "  </div>\n",
              "  "
            ]
          },
          "metadata": {},
          "execution_count": 67
        }
      ]
    },
    {
      "cell_type": "code",
      "source": [
        "df['Close'].head()"
      ],
      "metadata": {
        "id": "4mDBBJnVTb4D",
        "colab": {
          "base_uri": "https://localhost:8080/"
        },
        "outputId": "6bc5a749-4a45-4e61-ce9c-a6b83efab0d4"
      },
      "execution_count": null,
      "outputs": [
        {
          "output_type": "execute_result",
          "data": {
            "text/plain": [
              "0    12.111217\n",
              "1    11.933982\n",
              "2    11.908658\n",
              "3    11.748302\n",
              "4    11.571068\n",
              "Name: Close, dtype: float64"
            ]
          },
          "metadata": {},
          "execution_count": 68
        }
      ]
    },
    {
      "cell_type": "code",
      "source": [
        "df['Close'].shift()"
      ],
      "metadata": {
        "id": "qTOMOvYSTnAe",
        "colab": {
          "base_uri": "https://localhost:8080/"
        },
        "outputId": "6c74dfe8-9bb9-4da3-a0ce-7978165c5fa3"
      },
      "execution_count": null,
      "outputs": [
        {
          "output_type": "execute_result",
          "data": {
            "text/plain": [
              "0            NaN\n",
              "1      12.111217\n",
              "2      11.933982\n",
              "3      11.908658\n",
              "4      11.748302\n",
              "         ...    \n",
              "688    10.350000\n",
              "689    10.300000\n",
              "690    10.230000\n",
              "691    10.210000\n",
              "692    10.080000\n",
              "Name: Close, Length: 693, dtype: float64"
            ]
          },
          "metadata": {},
          "execution_count": 69
        }
      ]
    },
    {
      "cell_type": "code",
      "source": [
        "df['rentabilidade']=df [ 'Close'] / df['Close'].shift()    *100  - 100 \n",
        "#essa variavel permite compararmos a data de fechamento e comparar a rentabilidade"
      ],
      "metadata": {
        "id": "gEfPIOX5T6hB"
      },
      "execution_count": null,
      "outputs": []
    },
    {
      "cell_type": "code",
      "source": [
        "df.head()"
      ],
      "metadata": {
        "id": "Ov7CpFWhUU2X",
        "colab": {
          "base_uri": "https://localhost:8080/",
          "height": 206
        },
        "outputId": "3235ed93-6732-4755-b121-3ac83be0ca61"
      },
      "execution_count": null,
      "outputs": [
        {
          "output_type": "execute_result",
          "data": {
            "text/plain": [
              "                       Date       Open       High        Low      Close  \\\n",
              "0 2020-01-02 00:00:00-03:00  11.933980  12.136538  11.874901  12.111217   \n",
              "1 2020-01-03 00:00:00-03:00  11.984621  12.119659  11.917103  11.933982   \n",
              "2 2020-01-06 00:00:00-03:00  11.917098  11.993056  11.824260  11.908658   \n",
              "3 2020-01-07 00:00:00-03:00  11.917101  11.933980  11.663904  11.748302   \n",
              "4 2020-01-08 00:00:00-03:00  11.773625  11.858024  11.545748  11.571068   \n",
              "\n",
              "       Volume  Dividends  Stock Splits  year  mont  day  rentabilidade  \n",
              "0  19199040.0        0.0           0.0  2020     1    2            NaN  \n",
              "1  22913100.0        0.0           0.0  2020     1    3      -1.463400  \n",
              "2  21286440.0        0.0           0.0  2020     1    6      -0.212200  \n",
              "3  21072555.0        0.0           0.0  2020     1    7      -1.346546  \n",
              "4  20354565.0        0.0           0.0  2020     1    8      -1.508598  "
            ],
            "text/html": [
              "\n",
              "  <div id=\"df-6b647925-2ce8-4df8-9e09-2973a37a0392\">\n",
              "    <div class=\"colab-df-container\">\n",
              "      <div>\n",
              "<style scoped>\n",
              "    .dataframe tbody tr th:only-of-type {\n",
              "        vertical-align: middle;\n",
              "    }\n",
              "\n",
              "    .dataframe tbody tr th {\n",
              "        vertical-align: top;\n",
              "    }\n",
              "\n",
              "    .dataframe thead th {\n",
              "        text-align: right;\n",
              "    }\n",
              "</style>\n",
              "<table border=\"1\" class=\"dataframe\">\n",
              "  <thead>\n",
              "    <tr style=\"text-align: right;\">\n",
              "      <th></th>\n",
              "      <th>Date</th>\n",
              "      <th>Open</th>\n",
              "      <th>High</th>\n",
              "      <th>Low</th>\n",
              "      <th>Close</th>\n",
              "      <th>Volume</th>\n",
              "      <th>Dividends</th>\n",
              "      <th>Stock Splits</th>\n",
              "      <th>year</th>\n",
              "      <th>mont</th>\n",
              "      <th>day</th>\n",
              "      <th>rentabilidade</th>\n",
              "    </tr>\n",
              "  </thead>\n",
              "  <tbody>\n",
              "    <tr>\n",
              "      <th>0</th>\n",
              "      <td>2020-01-02 00:00:00-03:00</td>\n",
              "      <td>11.933980</td>\n",
              "      <td>12.136538</td>\n",
              "      <td>11.874901</td>\n",
              "      <td>12.111217</td>\n",
              "      <td>19199040.0</td>\n",
              "      <td>0.0</td>\n",
              "      <td>0.0</td>\n",
              "      <td>2020</td>\n",
              "      <td>1</td>\n",
              "      <td>2</td>\n",
              "      <td>NaN</td>\n",
              "    </tr>\n",
              "    <tr>\n",
              "      <th>1</th>\n",
              "      <td>2020-01-03 00:00:00-03:00</td>\n",
              "      <td>11.984621</td>\n",
              "      <td>12.119659</td>\n",
              "      <td>11.917103</td>\n",
              "      <td>11.933982</td>\n",
              "      <td>22913100.0</td>\n",
              "      <td>0.0</td>\n",
              "      <td>0.0</td>\n",
              "      <td>2020</td>\n",
              "      <td>1</td>\n",
              "      <td>3</td>\n",
              "      <td>-1.463400</td>\n",
              "    </tr>\n",
              "    <tr>\n",
              "      <th>2</th>\n",
              "      <td>2020-01-06 00:00:00-03:00</td>\n",
              "      <td>11.917098</td>\n",
              "      <td>11.993056</td>\n",
              "      <td>11.824260</td>\n",
              "      <td>11.908658</td>\n",
              "      <td>21286440.0</td>\n",
              "      <td>0.0</td>\n",
              "      <td>0.0</td>\n",
              "      <td>2020</td>\n",
              "      <td>1</td>\n",
              "      <td>6</td>\n",
              "      <td>-0.212200</td>\n",
              "    </tr>\n",
              "    <tr>\n",
              "      <th>3</th>\n",
              "      <td>2020-01-07 00:00:00-03:00</td>\n",
              "      <td>11.917101</td>\n",
              "      <td>11.933980</td>\n",
              "      <td>11.663904</td>\n",
              "      <td>11.748302</td>\n",
              "      <td>21072555.0</td>\n",
              "      <td>0.0</td>\n",
              "      <td>0.0</td>\n",
              "      <td>2020</td>\n",
              "      <td>1</td>\n",
              "      <td>7</td>\n",
              "      <td>-1.346546</td>\n",
              "    </tr>\n",
              "    <tr>\n",
              "      <th>4</th>\n",
              "      <td>2020-01-08 00:00:00-03:00</td>\n",
              "      <td>11.773625</td>\n",
              "      <td>11.858024</td>\n",
              "      <td>11.545748</td>\n",
              "      <td>11.571068</td>\n",
              "      <td>20354565.0</td>\n",
              "      <td>0.0</td>\n",
              "      <td>0.0</td>\n",
              "      <td>2020</td>\n",
              "      <td>1</td>\n",
              "      <td>8</td>\n",
              "      <td>-1.508598</td>\n",
              "    </tr>\n",
              "  </tbody>\n",
              "</table>\n",
              "</div>\n",
              "      <button class=\"colab-df-convert\" onclick=\"convertToInteractive('df-6b647925-2ce8-4df8-9e09-2973a37a0392')\"\n",
              "              title=\"Convert this dataframe to an interactive table.\"\n",
              "              style=\"display:none;\">\n",
              "        \n",
              "  <svg xmlns=\"http://www.w3.org/2000/svg\" height=\"24px\"viewBox=\"0 0 24 24\"\n",
              "       width=\"24px\">\n",
              "    <path d=\"M0 0h24v24H0V0z\" fill=\"none\"/>\n",
              "    <path d=\"M18.56 5.44l.94 2.06.94-2.06 2.06-.94-2.06-.94-.94-2.06-.94 2.06-2.06.94zm-11 1L8.5 8.5l.94-2.06 2.06-.94-2.06-.94L8.5 2.5l-.94 2.06-2.06.94zm10 10l.94 2.06.94-2.06 2.06-.94-2.06-.94-.94-2.06-.94 2.06-2.06.94z\"/><path d=\"M17.41 7.96l-1.37-1.37c-.4-.4-.92-.59-1.43-.59-.52 0-1.04.2-1.43.59L10.3 9.45l-7.72 7.72c-.78.78-.78 2.05 0 2.83L4 21.41c.39.39.9.59 1.41.59.51 0 1.02-.2 1.41-.59l7.78-7.78 2.81-2.81c.8-.78.8-2.07 0-2.86zM5.41 20L4 18.59l7.72-7.72 1.47 1.35L5.41 20z\"/>\n",
              "  </svg>\n",
              "      </button>\n",
              "      \n",
              "  <style>\n",
              "    .colab-df-container {\n",
              "      display:flex;\n",
              "      flex-wrap:wrap;\n",
              "      gap: 12px;\n",
              "    }\n",
              "\n",
              "    .colab-df-convert {\n",
              "      background-color: #E8F0FE;\n",
              "      border: none;\n",
              "      border-radius: 50%;\n",
              "      cursor: pointer;\n",
              "      display: none;\n",
              "      fill: #1967D2;\n",
              "      height: 32px;\n",
              "      padding: 0 0 0 0;\n",
              "      width: 32px;\n",
              "    }\n",
              "\n",
              "    .colab-df-convert:hover {\n",
              "      background-color: #E2EBFA;\n",
              "      box-shadow: 0px 1px 2px rgba(60, 64, 67, 0.3), 0px 1px 3px 1px rgba(60, 64, 67, 0.15);\n",
              "      fill: #174EA6;\n",
              "    }\n",
              "\n",
              "    [theme=dark] .colab-df-convert {\n",
              "      background-color: #3B4455;\n",
              "      fill: #D2E3FC;\n",
              "    }\n",
              "\n",
              "    [theme=dark] .colab-df-convert:hover {\n",
              "      background-color: #434B5C;\n",
              "      box-shadow: 0px 1px 3px 1px rgba(0, 0, 0, 0.15);\n",
              "      filter: drop-shadow(0px 1px 2px rgba(0, 0, 0, 0.3));\n",
              "      fill: #FFFFFF;\n",
              "    }\n",
              "  </style>\n",
              "\n",
              "      <script>\n",
              "        const buttonEl =\n",
              "          document.querySelector('#df-6b647925-2ce8-4df8-9e09-2973a37a0392 button.colab-df-convert');\n",
              "        buttonEl.style.display =\n",
              "          google.colab.kernel.accessAllowed ? 'block' : 'none';\n",
              "\n",
              "        async function convertToInteractive(key) {\n",
              "          const element = document.querySelector('#df-6b647925-2ce8-4df8-9e09-2973a37a0392');\n",
              "          const dataTable =\n",
              "            await google.colab.kernel.invokeFunction('convertToInteractive',\n",
              "                                                     [key], {});\n",
              "          if (!dataTable) return;\n",
              "\n",
              "          const docLinkHtml = 'Like what you see? Visit the ' +\n",
              "            '<a target=\"_blank\" href=https://colab.research.google.com/notebooks/data_table.ipynb>data table notebook</a>'\n",
              "            + ' to learn more about interactive tables.';\n",
              "          element.innerHTML = '';\n",
              "          dataTable['output_type'] = 'display_data';\n",
              "          await google.colab.output.renderOutput(dataTable, element);\n",
              "          const docLink = document.createElement('div');\n",
              "          docLink.innerHTML = docLinkHtml;\n",
              "          element.appendChild(docLink);\n",
              "        }\n",
              "      </script>\n",
              "    </div>\n",
              "  </div>\n",
              "  "
            ]
          },
          "metadata": {},
          "execution_count": 71
        }
      ]
    },
    {
      "cell_type": "code",
      "source": [
        "def features_extraction (df_):\n",
        "  df_['year'] = df_['Date'].dt.year\n",
        "  df_['month'] = df_['Date'].dt.month\n",
        "  df_['day'] = df_['Date'].dt.day\n",
        "  df_['rentabilidade'] = df_['Close'] / df_['Close'].shift() * 100 - 100"
      ],
      "metadata": {
        "id": "ml8CO4yjZYLd"
      },
      "execution_count": null,
      "outputs": []
    },
    {
      "cell_type": "code",
      "source": [
        "df.reset_index(inplace=True)\n"
      ],
      "metadata": {
        "id": "4tpXLT4gZl1u"
      },
      "execution_count": null,
      "outputs": []
    },
    {
      "cell_type": "code",
      "source": [
        "features_extraction(df)"
      ],
      "metadata": {
        "id": "XFK5WiL4gZFN"
      },
      "execution_count": null,
      "outputs": []
    },
    {
      "cell_type": "code",
      "source": [
        "df.head()"
      ],
      "metadata": {
        "colab": {
          "base_uri": "https://localhost:8080/",
          "height": 206
        },
        "id": "u6-hn3sRga6F",
        "outputId": "3d7ab2af-c6a3-4811-92a9-7e84f73dfd08"
      },
      "execution_count": null,
      "outputs": [
        {
          "output_type": "execute_result",
          "data": {
            "text/plain": [
              "   index                      Date       Open       High        Low  \\\n",
              "0      0 2020-01-02 00:00:00-03:00  11.933980  12.136538  11.874901   \n",
              "1      1 2020-01-03 00:00:00-03:00  11.984621  12.119659  11.917103   \n",
              "2      2 2020-01-06 00:00:00-03:00  11.917098  11.993056  11.824260   \n",
              "3      3 2020-01-07 00:00:00-03:00  11.917101  11.933980  11.663904   \n",
              "4      4 2020-01-08 00:00:00-03:00  11.773625  11.858024  11.545748   \n",
              "\n",
              "       Close      Volume  Dividends  Stock Splits  year  mont  day  \\\n",
              "0  12.111217  19199040.0        0.0           0.0  2020     1    2   \n",
              "1  11.933982  22913100.0        0.0           0.0  2020     1    3   \n",
              "2  11.908658  21286440.0        0.0           0.0  2020     1    6   \n",
              "3  11.748302  21072555.0        0.0           0.0  2020     1    7   \n",
              "4  11.571068  20354565.0        0.0           0.0  2020     1    8   \n",
              "\n",
              "   rentabilidade  month  \n",
              "0            NaN      1  \n",
              "1      -1.463400      1  \n",
              "2      -0.212200      1  \n",
              "3      -1.346546      1  \n",
              "4      -1.508598      1  "
            ],
            "text/html": [
              "\n",
              "  <div id=\"df-bac984dd-8d39-4407-92c2-430a32e6f331\">\n",
              "    <div class=\"colab-df-container\">\n",
              "      <div>\n",
              "<style scoped>\n",
              "    .dataframe tbody tr th:only-of-type {\n",
              "        vertical-align: middle;\n",
              "    }\n",
              "\n",
              "    .dataframe tbody tr th {\n",
              "        vertical-align: top;\n",
              "    }\n",
              "\n",
              "    .dataframe thead th {\n",
              "        text-align: right;\n",
              "    }\n",
              "</style>\n",
              "<table border=\"1\" class=\"dataframe\">\n",
              "  <thead>\n",
              "    <tr style=\"text-align: right;\">\n",
              "      <th></th>\n",
              "      <th>index</th>\n",
              "      <th>Date</th>\n",
              "      <th>Open</th>\n",
              "      <th>High</th>\n",
              "      <th>Low</th>\n",
              "      <th>Close</th>\n",
              "      <th>Volume</th>\n",
              "      <th>Dividends</th>\n",
              "      <th>Stock Splits</th>\n",
              "      <th>year</th>\n",
              "      <th>mont</th>\n",
              "      <th>day</th>\n",
              "      <th>rentabilidade</th>\n",
              "      <th>month</th>\n",
              "    </tr>\n",
              "  </thead>\n",
              "  <tbody>\n",
              "    <tr>\n",
              "      <th>0</th>\n",
              "      <td>0</td>\n",
              "      <td>2020-01-02 00:00:00-03:00</td>\n",
              "      <td>11.933980</td>\n",
              "      <td>12.136538</td>\n",
              "      <td>11.874901</td>\n",
              "      <td>12.111217</td>\n",
              "      <td>19199040.0</td>\n",
              "      <td>0.0</td>\n",
              "      <td>0.0</td>\n",
              "      <td>2020</td>\n",
              "      <td>1</td>\n",
              "      <td>2</td>\n",
              "      <td>NaN</td>\n",
              "      <td>1</td>\n",
              "    </tr>\n",
              "    <tr>\n",
              "      <th>1</th>\n",
              "      <td>1</td>\n",
              "      <td>2020-01-03 00:00:00-03:00</td>\n",
              "      <td>11.984621</td>\n",
              "      <td>12.119659</td>\n",
              "      <td>11.917103</td>\n",
              "      <td>11.933982</td>\n",
              "      <td>22913100.0</td>\n",
              "      <td>0.0</td>\n",
              "      <td>0.0</td>\n",
              "      <td>2020</td>\n",
              "      <td>1</td>\n",
              "      <td>3</td>\n",
              "      <td>-1.463400</td>\n",
              "      <td>1</td>\n",
              "    </tr>\n",
              "    <tr>\n",
              "      <th>2</th>\n",
              "      <td>2</td>\n",
              "      <td>2020-01-06 00:00:00-03:00</td>\n",
              "      <td>11.917098</td>\n",
              "      <td>11.993056</td>\n",
              "      <td>11.824260</td>\n",
              "      <td>11.908658</td>\n",
              "      <td>21286440.0</td>\n",
              "      <td>0.0</td>\n",
              "      <td>0.0</td>\n",
              "      <td>2020</td>\n",
              "      <td>1</td>\n",
              "      <td>6</td>\n",
              "      <td>-0.212200</td>\n",
              "      <td>1</td>\n",
              "    </tr>\n",
              "    <tr>\n",
              "      <th>3</th>\n",
              "      <td>3</td>\n",
              "      <td>2020-01-07 00:00:00-03:00</td>\n",
              "      <td>11.917101</td>\n",
              "      <td>11.933980</td>\n",
              "      <td>11.663904</td>\n",
              "      <td>11.748302</td>\n",
              "      <td>21072555.0</td>\n",
              "      <td>0.0</td>\n",
              "      <td>0.0</td>\n",
              "      <td>2020</td>\n",
              "      <td>1</td>\n",
              "      <td>7</td>\n",
              "      <td>-1.346546</td>\n",
              "      <td>1</td>\n",
              "    </tr>\n",
              "    <tr>\n",
              "      <th>4</th>\n",
              "      <td>4</td>\n",
              "      <td>2020-01-08 00:00:00-03:00</td>\n",
              "      <td>11.773625</td>\n",
              "      <td>11.858024</td>\n",
              "      <td>11.545748</td>\n",
              "      <td>11.571068</td>\n",
              "      <td>20354565.0</td>\n",
              "      <td>0.0</td>\n",
              "      <td>0.0</td>\n",
              "      <td>2020</td>\n",
              "      <td>1</td>\n",
              "      <td>8</td>\n",
              "      <td>-1.508598</td>\n",
              "      <td>1</td>\n",
              "    </tr>\n",
              "  </tbody>\n",
              "</table>\n",
              "</div>\n",
              "      <button class=\"colab-df-convert\" onclick=\"convertToInteractive('df-bac984dd-8d39-4407-92c2-430a32e6f331')\"\n",
              "              title=\"Convert this dataframe to an interactive table.\"\n",
              "              style=\"display:none;\">\n",
              "        \n",
              "  <svg xmlns=\"http://www.w3.org/2000/svg\" height=\"24px\"viewBox=\"0 0 24 24\"\n",
              "       width=\"24px\">\n",
              "    <path d=\"M0 0h24v24H0V0z\" fill=\"none\"/>\n",
              "    <path d=\"M18.56 5.44l.94 2.06.94-2.06 2.06-.94-2.06-.94-.94-2.06-.94 2.06-2.06.94zm-11 1L8.5 8.5l.94-2.06 2.06-.94-2.06-.94L8.5 2.5l-.94 2.06-2.06.94zm10 10l.94 2.06.94-2.06 2.06-.94-2.06-.94-.94-2.06-.94 2.06-2.06.94z\"/><path d=\"M17.41 7.96l-1.37-1.37c-.4-.4-.92-.59-1.43-.59-.52 0-1.04.2-1.43.59L10.3 9.45l-7.72 7.72c-.78.78-.78 2.05 0 2.83L4 21.41c.39.39.9.59 1.41.59.51 0 1.02-.2 1.41-.59l7.78-7.78 2.81-2.81c.8-.78.8-2.07 0-2.86zM5.41 20L4 18.59l7.72-7.72 1.47 1.35L5.41 20z\"/>\n",
              "  </svg>\n",
              "      </button>\n",
              "      \n",
              "  <style>\n",
              "    .colab-df-container {\n",
              "      display:flex;\n",
              "      flex-wrap:wrap;\n",
              "      gap: 12px;\n",
              "    }\n",
              "\n",
              "    .colab-df-convert {\n",
              "      background-color: #E8F0FE;\n",
              "      border: none;\n",
              "      border-radius: 50%;\n",
              "      cursor: pointer;\n",
              "      display: none;\n",
              "      fill: #1967D2;\n",
              "      height: 32px;\n",
              "      padding: 0 0 0 0;\n",
              "      width: 32px;\n",
              "    }\n",
              "\n",
              "    .colab-df-convert:hover {\n",
              "      background-color: #E2EBFA;\n",
              "      box-shadow: 0px 1px 2px rgba(60, 64, 67, 0.3), 0px 1px 3px 1px rgba(60, 64, 67, 0.15);\n",
              "      fill: #174EA6;\n",
              "    }\n",
              "\n",
              "    [theme=dark] .colab-df-convert {\n",
              "      background-color: #3B4455;\n",
              "      fill: #D2E3FC;\n",
              "    }\n",
              "\n",
              "    [theme=dark] .colab-df-convert:hover {\n",
              "      background-color: #434B5C;\n",
              "      box-shadow: 0px 1px 3px 1px rgba(0, 0, 0, 0.15);\n",
              "      filter: drop-shadow(0px 1px 2px rgba(0, 0, 0, 0.3));\n",
              "      fill: #FFFFFF;\n",
              "    }\n",
              "  </style>\n",
              "\n",
              "      <script>\n",
              "        const buttonEl =\n",
              "          document.querySelector('#df-bac984dd-8d39-4407-92c2-430a32e6f331 button.colab-df-convert');\n",
              "        buttonEl.style.display =\n",
              "          google.colab.kernel.accessAllowed ? 'block' : 'none';\n",
              "\n",
              "        async function convertToInteractive(key) {\n",
              "          const element = document.querySelector('#df-bac984dd-8d39-4407-92c2-430a32e6f331');\n",
              "          const dataTable =\n",
              "            await google.colab.kernel.invokeFunction('convertToInteractive',\n",
              "                                                     [key], {});\n",
              "          if (!dataTable) return;\n",
              "\n",
              "          const docLinkHtml = 'Like what you see? Visit the ' +\n",
              "            '<a target=\"_blank\" href=https://colab.research.google.com/notebooks/data_table.ipynb>data table notebook</a>'\n",
              "            + ' to learn more about interactive tables.';\n",
              "          element.innerHTML = '';\n",
              "          dataTable['output_type'] = 'display_data';\n",
              "          await google.colab.output.renderOutput(dataTable, element);\n",
              "          const docLink = document.createElement('div');\n",
              "          docLink.innerHTML = docLinkHtml;\n",
              "          element.appendChild(docLink);\n",
              "        }\n",
              "      </script>\n",
              "    </div>\n",
              "  </div>\n",
              "  "
            ]
          },
          "metadata": {},
          "execution_count": 75
        }
      ]
    },
    {
      "cell_type": "markdown",
      "source": [
        "## Hipotese\n",
        "## 1)Existe um melhor mes pra investir no ativo ?\n",
        "\n",
        "\n",
        "*  Cosiderando 2 anos de dados de rentabilidade, \n",
        "\n"
      ],
      "metadata": {
        "id": "nS4ng5W7gqLV"
      }
    },
    {
      "cell_type": "code",
      "source": [
        "df.groupby('month').agg({'rentabilidade':'sum'}).plot(kind ='bar')"
      ],
      "metadata": {
        "colab": {
          "base_uri": "https://localhost:8080/",
          "height": 299
        },
        "id": "5FncbdG8hZC4",
        "outputId": "66192678-d143-4916-b57d-87e25eeec40d"
      },
      "execution_count": null,
      "outputs": [
        {
          "output_type": "execute_result",
          "data": {
            "text/plain": [
              "<matplotlib.axes._subplots.AxesSubplot at 0x7feea4e8a910>"
            ]
          },
          "metadata": {},
          "execution_count": 76
        },
        {
          "output_type": "display_data",
          "data": {
            "text/plain": [
              "<Figure size 432x288 with 1 Axes>"
            ],
            "image/png": "[encoded data removed]"
          },
          "metadata": {
            "needs_background": "light"
          }
        }
      ]
    },
    {
      "cell_type": "code",
      "source": [
        "df.set_index('Date',inplace= True)"
      ],
      "metadata": {
        "id": "VsuGZ0ufJ65w"
      },
      "execution_count": null,
      "outputs": []
    },
    {
      "cell_type": "code",
      "source": [
        "media_movel30d = df['Close'].rolling(30).mean()\n",
        "media_movel90d = df['Close'].rolling(90).mean()\n",
        "fig, ax = plt.subplots(figsize=(8,4))\n",
        "plt.plot(df['Close'])\n",
        "plt.plot(media_movel30d)\n",
        "plt.plot(media_movel90d)"
      ],
      "metadata": {
        "colab": {
          "base_uri": "https://localhost:8080/",
          "height": 282
        },
        "id": "i4EoPG97KENB",
        "outputId": "8d2c9ac1-4b64-4eb0-85bd-1c6c8f96165f"
      },
      "execution_count": null,
      "outputs": [
        {
          "output_type": "execute_result",
          "data": {
            "text/plain": [
              "[<matplotlib.lines.Line2D at 0x7feea07d6a90>]"
            ]
          },
          "metadata": {},
          "execution_count": 78
        },
        {
          "output_type": "display_data",
          "data": {
            "text/plain": [
              "<Figure size 576x288 with 1 Axes>"
            ],
            "image/png": "[encoded data removed]"
          },
          "metadata": {
            "needs_background": "light"
          }
        }
      ]
    },
    {
      "cell_type": "markdown",
      "source": [
        "## Hipotese 2) Existe um melhor dia para investir  ?"
      ],
      "metadata": {
        "id": "G43LbNcCLe_j"
      }
    },
    {
      "cell_type": "code",
      "source": [
        "df.groupby('day').agg({'rentabilidade':'sum'}).plot(kind='bar')\n"
      ],
      "metadata": {
        "colab": {
          "base_uri": "https://localhost:8080/",
          "height": 300
        },
        "id": "3DytSn0iLllJ",
        "outputId": "482c10de-3ba9-4ffb-9096-ca016fe7ce12"
      },
      "execution_count": null,
      "outputs": [
        {
          "output_type": "execute_result",
          "data": {
            "text/plain": [
              "<matplotlib.axes._subplots.AxesSubplot at 0x7feea4e148d0>"
            ]
          },
          "metadata": {},
          "execution_count": 79
        },
        {
          "output_type": "display_data",
          "data": {
            "text/plain": [
              "<Figure size 432x288 with 1 Axes>"
            ],
            "image/png": "[encoded data removed]"
          },
          "metadata": {
            "needs_background": "light"
          }
        }
      ]
    },
    {
      "cell_type": "code",
      "source": [
        "df.iloc[0]"
      ],
      "metadata": {
        "colab": {
          "base_uri": "https://localhost:8080/"
        },
        "id": "fogHnznZNIkj",
        "outputId": "cd74584a-039c-4f71-e991-3bc61e98cfaf"
      },
      "execution_count": null,
      "outputs": [
        {
          "output_type": "execute_result",
          "data": {
            "text/plain": [
              "index            0.000000e+00\n",
              "Open             1.193398e+01\n",
              "High             1.213654e+01\n",
              "Low              1.187490e+01\n",
              "Close            1.211122e+01\n",
              "Volume           1.919904e+07\n",
              "Dividends        0.000000e+00\n",
              "Stock Splits     0.000000e+00\n",
              "year             2.020000e+03\n",
              "mont             1.000000e+00\n",
              "day              2.000000e+00\n",
              "rentabilidade             NaN\n",
              "month            1.000000e+00\n",
              "Name: 2020-01-02 00:00:00-03:00, dtype: float64"
            ]
          },
          "metadata": {},
          "execution_count": 80
        }
      ]
    },
    {
      "cell_type": "code",
      "source": [
        "df.iloc[-1]"
      ],
      "metadata": {
        "colab": {
          "base_uri": "https://localhost:8080/"
        },
        "id": "Md3xHv4xNKXf",
        "outputId": "55b698a6-1da8-46bb-a9a9-dc3a7a03716c"
      },
      "execution_count": null,
      "outputs": [
        {
          "output_type": "execute_result",
          "data": {
            "text/plain": [
              "index            6.920000e+02\n",
              "Open             1.000000e+01\n",
              "High             1.013000e+01\n",
              "Low              9.940000e+00\n",
              "Close            1.002000e+01\n",
              "Volume           2.017920e+07\n",
              "Dividends        0.000000e+00\n",
              "Stock Splits     0.000000e+00\n",
              "year             2.022000e+03\n",
              "mont             1.000000e+01\n",
              "day              1.300000e+01\n",
              "rentabilidade   -5.952328e-01\n",
              "month            1.000000e+01\n",
              "Name: 2022-10-13 00:00:00-03:00, dtype: float64"
            ]
          },
          "metadata": {},
          "execution_count": 81
        }
      ]
    },
    {
      "cell_type": "code",
      "source": [
        "df.iloc[-1]"
      ],
      "metadata": {
        "colab": {
          "base_uri": "https://localhost:8080/"
        },
        "id": "hlu4zueMNP-r",
        "outputId": "2aca5a5f-e33b-4aa6-c5df-b88ea2cfd43d"
      },
      "execution_count": null,
      "outputs": [
        {
          "output_type": "execute_result",
          "data": {
            "text/plain": [
              "index            6.920000e+02\n",
              "Open             1.000000e+01\n",
              "High             1.013000e+01\n",
              "Low              9.940000e+00\n",
              "Close            1.002000e+01\n",
              "Volume           2.017920e+07\n",
              "Dividends        0.000000e+00\n",
              "Stock Splits     0.000000e+00\n",
              "year             2.022000e+03\n",
              "mont             1.000000e+01\n",
              "day              1.300000e+01\n",
              "rentabilidade   -5.952328e-01\n",
              "month            1.000000e+01\n",
              "Name: 2022-10-13 00:00:00-03:00, dtype: float64"
            ]
          },
          "metadata": {},
          "execution_count": 82
        }
      ]
    },
    {
      "cell_type": "code",
      "source": [
        "df['Close'].iloc[-1] / df ['Close'].iloc[0] * 100 - 100"
      ],
      "metadata": {
        "colab": {
          "base_uri": "https://localhost:8080/"
        },
        "id": "iQ7Fv0pxNXCu",
        "outputId": "be4fb87c-2f42-470a-8695-2bac5395ff0e"
      },
      "execution_count": null,
      "outputs": [
        {
          "output_type": "execute_result",
          "data": {
            "text/plain": [
              "-17.266778019851444"
            ]
          },
          "metadata": {},
          "execution_count": 83
        }
      ]
    },
    {
      "cell_type": "code",
      "source": [
        "df['rentabilidade'].sum()"
      ],
      "metadata": {
        "colab": {
          "base_uri": "https://localhost:8080/"
        },
        "id": "nGjtr9g5NsbN",
        "outputId": "e2659343-b6a0-4540-ff0b-8cef98ee0bf2"
      },
      "execution_count": null,
      "outputs": [
        {
          "output_type": "execute_result",
          "data": {
            "text/plain": [
              "-3.462942618715516"
            ]
          },
          "metadata": {},
          "execution_count": 84
        }
      ]
    },
    {
      "cell_type": "markdown",
      "source": [
        "## 5) Correlação de series temporais "
      ],
      "metadata": {
        "id": "OF_2d61wN5Vr"
      }
    },
    {
      "cell_type": "code",
      "source": [
        "tickets = ['VALE3.SA', 'ITUB4.SA','PETR4.SA','ABEV3.SA','BBDC4.SA', 'BBAS3.SA','^BVSP','USDBRL=X']"
      ],
      "metadata": {
        "id": "iOkSaWqUO8rQ"
      },
      "execution_count": null,
      "outputs": []
    },
    {
      "cell_type": "code",
      "source": [
        "dfs = [] #COLOCANDO TODOS OS DADOS NO DATAFRAME\n",
        "\n",
        "for t in tickets:\n",
        "  print('Reading ticker {}...'.format(t))\n",
        "  ticket = yf.Ticker(t)\n",
        "  aux = ticket.history(interval= '1d', start='2019-01-01', end='2022-01-01')\n",
        "  aux.reset_index(inplace = True)\n",
        "  aux['ticket'] = ticket\n",
        "  dfs.append(aux)\n"
      ],
      "metadata": {
        "colab": {
          "base_uri": "https://localhost:8080/"
        },
        "id": "9Pj5x725PcFV",
        "outputId": "e73ef093-e1be-4389-dffe-6b9cba0375c6"
      },
      "execution_count": null,
      "outputs": [
        {
          "output_type": "stream",
          "name": "stdout",
          "text": [
            "Reading ticker VALE3.SA...\n",
            "Reading ticker ITUB4.SA...\n",
            "Reading ticker PETR4.SA...\n",
            "Reading ticker ABEV3.SA...\n",
            "Reading ticker BBDC4.SA...\n",
            "Reading ticker BBAS3.SA...\n",
            "Reading ticker ^BVSP...\n",
            "Reading ticker USDBRL=X...\n"
          ]
        }
      ]
    },
    {
      "cell_type": "code",
      "source": [
        "dfs[0] #aqui posso escolher qual ticket visualizar, seguindo sua ordem na lista de (0 -/)"
      ],
      "metadata": {
        "colab": {
          "base_uri": "https://localhost:8080/",
          "height": 424
        },
        "id": "AvBpAroSRNfq",
        "outputId": "9c9b61d6-01a3-4839-f6c3-e776677ded30"
      },
      "execution_count": null,
      "outputs": [
        {
          "output_type": "execute_result",
          "data": {
            "text/plain": [
              "                         Date       Open       High        Low      Close  \\\n",
              "0   2019-01-02 00:00:00-02:00  36.394269  37.383995  36.234168  37.180229   \n",
              "1   2019-01-03 00:00:00-02:00  36.969183  37.071066  35.222609  35.659252   \n",
              "2   2019-01-04 00:00:00-02:00  36.256001  38.169957  36.256001  37.980743   \n",
              "3   2019-01-07 00:00:00-02:00  38.475603  39.043242  37.638704  37.776974   \n",
              "4   2019-01-08 00:00:00-02:00  37.988018  38.424661  37.565927  38.140842   \n",
              "..                        ...        ...        ...        ...        ...   \n",
              "738 2021-12-23 00:00:00-03:00  73.196268  73.296977  72.143419  72.463852   \n",
              "739 2021-12-27 00:00:00-03:00  72.207502  72.738502  71.649031  72.280739   \n",
              "740 2021-12-28 00:00:00-03:00  71.877911  71.896218  70.101789  70.541245   \n",
              "741 2021-12-29 00:00:00-03:00  69.927840  71.392687  69.900376  70.724350   \n",
              "742 2021-12-30 00:00:00-03:00  71.401839  72.308214  71.053942  71.374374   \n",
              "\n",
              "       Volume  Dividends  Stock Splits                             ticket  \n",
              "0    17319600        0.0             0  yfinance.Ticker object <VALE3.SA>  \n",
              "1    30120000        0.0             0  yfinance.Ticker object <VALE3.SA>  \n",
              "2    43360100        0.0             0  yfinance.Ticker object <VALE3.SA>  \n",
              "3    20998900        0.0             0  yfinance.Ticker object <VALE3.SA>  \n",
              "4    19925600        0.0             0  yfinance.Ticker object <VALE3.SA>  \n",
              "..        ...        ...           ...                                ...  \n",
              "738  13121200        0.0             0  yfinance.Ticker object <VALE3.SA>  \n",
              "739  11371400        0.0             0  yfinance.Ticker object <VALE3.SA>  \n",
              "740  18923700        0.0             0  yfinance.Ticker object <VALE3.SA>  \n",
              "741  12113500        0.0             0  yfinance.Ticker object <VALE3.SA>  \n",
              "742  26568500        0.0             0  yfinance.Ticker object <VALE3.SA>  \n",
              "\n",
              "[743 rows x 9 columns]"
            ],
            "text/html": [
              "\n",
              "  <div id=\"df-79970949-9e7c-4731-bbad-c03ec7a1cbff\">\n",
              "    <div class=\"colab-df-container\">\n",
              "      <div>\n",
              "<style scoped>\n",
              "    .dataframe tbody tr th:only-of-type {\n",
              "        vertical-align: middle;\n",
              "    }\n",
              "\n",
              "    .dataframe tbody tr th {\n",
              "        vertical-align: top;\n",
              "    }\n",
              "\n",
              "    .dataframe thead th {\n",
              "        text-align: right;\n",
              "    }\n",
              "</style>\n",
              "<table border=\"1\" class=\"dataframe\">\n",
              "  <thead>\n",
              "    <tr style=\"text-align: right;\">\n",
              "      <th></th>\n",
              "      <th>Date</th>\n",
              "      <th>Open</th>\n",
              "      <th>High</th>\n",
              "      <th>Low</th>\n",
              "      <th>Close</th>\n",
              "      <th>Volume</th>\n",
              "      <th>Dividends</th>\n",
              "      <th>Stock Splits</th>\n",
              "      <th>ticket</th>\n",
              "    </tr>\n",
              "  </thead>\n",
              "  <tbody>\n",
              "    <tr>\n",
              "      <th>0</th>\n",
              "      <td>2019-01-02 00:00:00-02:00</td>\n",
              "      <td>36.394269</td>\n",
              "      <td>37.383995</td>\n",
              "      <td>36.234168</td>\n",
              "      <td>37.180229</td>\n",
              "      <td>17319600</td>\n",
              "      <td>0.0</td>\n",
              "      <td>0</td>\n",
              "      <td>yfinance.Ticker object &lt;VALE3.SA&gt;</td>\n",
              "    </tr>\n",
              "    <tr>\n",
              "      <th>1</th>\n",
              "      <td>2019-01-03 00:00:00-02:00</td>\n",
              "      <td>36.969183</td>\n",
              "      <td>37.071066</td>\n",
              "      <td>35.222609</td>\n",
              "      <td>35.659252</td>\n",
              "      <td>30120000</td>\n",
              "      <td>0.0</td>\n",
              "      <td>0</td>\n",
              "      <td>yfinance.Ticker object &lt;VALE3.SA&gt;</td>\n",
              "    </tr>\n",
              "    <tr>\n",
              "      <th>2</th>\n",
              "      <td>2019-01-04 00:00:00-02:00</td>\n",
              "      <td>36.256001</td>\n",
              "      <td>38.169957</td>\n",
              "      <td>36.256001</td>\n",
              "      <td>37.980743</td>\n",
              "      <td>43360100</td>\n",
              "      <td>0.0</td>\n",
              "      <td>0</td>\n",
              "      <td>yfinance.Ticker object &lt;VALE3.SA&gt;</td>\n",
              "    </tr>\n",
              "    <tr>\n",
              "      <th>3</th>\n",
              "      <td>2019-01-07 00:00:00-02:00</td>\n",
              "      <td>38.475603</td>\n",
              "      <td>39.043242</td>\n",
              "      <td>37.638704</td>\n",
              "      <td>37.776974</td>\n",
              "      <td>20998900</td>\n",
              "      <td>0.0</td>\n",
              "      <td>0</td>\n",
              "      <td>yfinance.Ticker object &lt;VALE3.SA&gt;</td>\n",
              "    </tr>\n",
              "    <tr>\n",
              "      <th>4</th>\n",
              "      <td>2019-01-08 00:00:00-02:00</td>\n",
              "      <td>37.988018</td>\n",
              "      <td>38.424661</td>\n",
              "      <td>37.565927</td>\n",
              "      <td>38.140842</td>\n",
              "      <td>19925600</td>\n",
              "      <td>0.0</td>\n",
              "      <td>0</td>\n",
              "      <td>yfinance.Ticker object &lt;VALE3.SA&gt;</td>\n",
              "    </tr>\n",
              "    <tr>\n",
              "      <th>...</th>\n",
              "      <td>...</td>\n",
              "      <td>...</td>\n",
              "      <td>...</td>\n",
              "      <td>...</td>\n",
              "      <td>...</td>\n",
              "      <td>...</td>\n",
              "      <td>...</td>\n",
              "      <td>...</td>\n",
              "      <td>...</td>\n",
              "    </tr>\n",
              "    <tr>\n",
              "      <th>738</th>\n",
              "      <td>2021-12-23 00:00:00-03:00</td>\n",
              "      <td>73.196268</td>\n",
              "      <td>73.296977</td>\n",
              "      <td>72.143419</td>\n",
              "      <td>72.463852</td>\n",
              "      <td>13121200</td>\n",
              "      <td>0.0</td>\n",
              "      <td>0</td>\n",
              "      <td>yfinance.Ticker object &lt;VALE3.SA&gt;</td>\n",
              "    </tr>\n",
              "    <tr>\n",
              "      <th>739</th>\n",
              "      <td>2021-12-27 00:00:00-03:00</td>\n",
              "      <td>72.207502</td>\n",
              "      <td>72.738502</td>\n",
              "      <td>71.649031</td>\n",
              "      <td>72.280739</td>\n",
              "      <td>11371400</td>\n",
              "      <td>0.0</td>\n",
              "      <td>0</td>\n",
              "      <td>yfinance.Ticker object &lt;VALE3.SA&gt;</td>\n",
              "    </tr>\n",
              "    <tr>\n",
              "      <th>740</th>\n",
              "      <td>2021-12-28 00:00:00-03:00</td>\n",
              "      <td>71.877911</td>\n",
              "      <td>71.896218</td>\n",
              "      <td>70.101789</td>\n",
              "      <td>70.541245</td>\n",
              "      <td>18923700</td>\n",
              "      <td>0.0</td>\n",
              "      <td>0</td>\n",
              "      <td>yfinance.Ticker object &lt;VALE3.SA&gt;</td>\n",
              "    </tr>\n",
              "    <tr>\n",
              "      <th>741</th>\n",
              "      <td>2021-12-29 00:00:00-03:00</td>\n",
              "      <td>69.927840</td>\n",
              "      <td>71.392687</td>\n",
              "      <td>69.900376</td>\n",
              "      <td>70.724350</td>\n",
              "      <td>12113500</td>\n",
              "      <td>0.0</td>\n",
              "      <td>0</td>\n",
              "      <td>yfinance.Ticker object &lt;VALE3.SA&gt;</td>\n",
              "    </tr>\n",
              "    <tr>\n",
              "      <th>742</th>\n",
              "      <td>2021-12-30 00:00:00-03:00</td>\n",
              "      <td>71.401839</td>\n",
              "      <td>72.308214</td>\n",
              "      <td>71.053942</td>\n",
              "      <td>71.374374</td>\n",
              "      <td>26568500</td>\n",
              "      <td>0.0</td>\n",
              "      <td>0</td>\n",
              "      <td>yfinance.Ticker object &lt;VALE3.SA&gt;</td>\n",
              "    </tr>\n",
              "  </tbody>\n",
              "</table>\n",
              "<p>743 rows × 9 columns</p>\n",
              "</div>\n",
              "      <button class=\"colab-df-convert\" onclick=\"convertToInteractive('df-79970949-9e7c-4731-bbad-c03ec7a1cbff')\"\n",
              "              title=\"Convert this dataframe to an interactive table.\"\n",
              "              style=\"display:none;\">\n",
              "        \n",
              "  <svg xmlns=\"http://www.w3.org/2000/svg\" height=\"24px\"viewBox=\"0 0 24 24\"\n",
              "       width=\"24px\">\n",
              "    <path d=\"M0 0h24v24H0V0z\" fill=\"none\"/>\n",
              "    <path d=\"M18.56 5.44l.94 2.06.94-2.06 2.06-.94-2.06-.94-.94-2.06-.94 2.06-2.06.94zm-11 1L8.5 8.5l.94-2.06 2.06-.94-2.06-.94L8.5 2.5l-.94 2.06-2.06.94zm10 10l.94 2.06.94-2.06 2.06-.94-2.06-.94-.94-2.06-.94 2.06-2.06.94z\"/><path d=\"M17.41 7.96l-1.37-1.37c-.4-.4-.92-.59-1.43-.59-.52 0-1.04.2-1.43.59L10.3 9.45l-7.72 7.72c-.78.78-.78 2.05 0 2.83L4 21.41c.39.39.9.59 1.41.59.51 0 1.02-.2 1.41-.59l7.78-7.78 2.81-2.81c.8-.78.8-2.07 0-2.86zM5.41 20L4 18.59l7.72-7.72 1.47 1.35L5.41 20z\"/>\n",
              "  </svg>\n",
              "      </button>\n",
              "      \n",
              "  <style>\n",
              "    .colab-df-container {\n",
              "      display:flex;\n",
              "      flex-wrap:wrap;\n",
              "      gap: 12px;\n",
              "    }\n",
              "\n",
              "    .colab-df-convert {\n",
              "      background-color: #E8F0FE;\n",
              "      border: none;\n",
              "      border-radius: 50%;\n",
              "      cursor: pointer;\n",
              "      display: none;\n",
              "      fill: #1967D2;\n",
              "      height: 32px;\n",
              "      padding: 0 0 0 0;\n",
              "      width: 32px;\n",
              "    }\n",
              "\n",
              "    .colab-df-convert:hover {\n",
              "      background-color: #E2EBFA;\n",
              "      box-shadow: 0px 1px 2px rgba(60, 64, 67, 0.3), 0px 1px 3px 1px rgba(60, 64, 67, 0.15);\n",
              "      fill: #174EA6;\n",
              "    }\n",
              "\n",
              "    [theme=dark] .colab-df-convert {\n",
              "      background-color: #3B4455;\n",
              "      fill: #D2E3FC;\n",
              "    }\n",
              "\n",
              "    [theme=dark] .colab-df-convert:hover {\n",
              "      background-color: #434B5C;\n",
              "      box-shadow: 0px 1px 3px 1px rgba(0, 0, 0, 0.15);\n",
              "      filter: drop-shadow(0px 1px 2px rgba(0, 0, 0, 0.3));\n",
              "      fill: #FFFFFF;\n",
              "    }\n",
              "  </style>\n",
              "\n",
              "      <script>\n",
              "        const buttonEl =\n",
              "          document.querySelector('#df-79970949-9e7c-4731-bbad-c03ec7a1cbff button.colab-df-convert');\n",
              "        buttonEl.style.display =\n",
              "          google.colab.kernel.accessAllowed ? 'block' : 'none';\n",
              "\n",
              "        async function convertToInteractive(key) {\n",
              "          const element = document.querySelector('#df-79970949-9e7c-4731-bbad-c03ec7a1cbff');\n",
              "          const dataTable =\n",
              "            await google.colab.kernel.invokeFunction('convertToInteractive',\n",
              "                                                     [key], {});\n",
              "          if (!dataTable) return;\n",
              "\n",
              "          const docLinkHtml = 'Like what you see? Visit the ' +\n",
              "            '<a target=\"_blank\" href=https://colab.research.google.com/notebooks/data_table.ipynb>data table notebook</a>'\n",
              "            + ' to learn more about interactive tables.';\n",
              "          element.innerHTML = '';\n",
              "          dataTable['output_type'] = 'display_data';\n",
              "          await google.colab.output.renderOutput(dataTable, element);\n",
              "          const docLink = document.createElement('div');\n",
              "          docLink.innerHTML = docLinkHtml;\n",
              "          element.appendChild(docLink);\n",
              "        }\n",
              "      </script>\n",
              "    </div>\n",
              "  </div>\n",
              "  "
            ]
          },
          "metadata": {},
          "execution_count": 87
        }
      ]
    },
    {
      "cell_type": "code",
      "source": [
        "for d in dfs:  #pra cada datafrase vou extrair as featrures \n",
        "  features_extraction(d)"
      ],
      "metadata": {
        "id": "KvzJuLmCRTY4"
      },
      "execution_count": null,
      "outputs": []
    },
    {
      "cell_type": "code",
      "source": [
        "dfs[1]"
      ],
      "metadata": {
        "colab": {
          "base_uri": "https://localhost:8080/",
          "height": 424
        },
        "id": "XyrKhZwQRvuj",
        "outputId": "16cde225-83a8-460c-e5c3-a57015078ce5"
      },
      "execution_count": null,
      "outputs": [
        {
          "output_type": "execute_result",
          "data": {
            "text/plain": [
              "                         Date       Open       High        Low      Close  \\\n",
              "0   2019-01-02 00:00:00-02:00  31.128874  32.622076  31.049822  32.499107   \n",
              "1   2019-01-03 00:00:00-02:00  32.279504  33.034889  32.015999  33.034889   \n",
              "2   2019-01-04 00:00:00-02:00  32.692340  33.122731  32.279512  32.481533   \n",
              "3   2019-01-07 00:00:00-02:00  32.323422  32.938271  32.279505  32.543011   \n",
              "4   2019-01-08 00:00:00-02:00  32.657197  32.999754  32.112618  32.955837   \n",
              "..                        ...        ...        ...        ...        ...   \n",
              "738 2021-12-23 00:00:00-03:00  20.914719  21.150046  20.757834  20.924524   \n",
              "739 2021-12-27 00:00:00-03:00  21.061795  21.277513  20.895105  21.140238   \n",
              "740 2021-12-28 00:00:00-03:00  21.208877  21.277516  20.983356  21.061798   \n",
              "741 2021-12-29 00:00:00-03:00  21.110823  21.159849  20.816663  20.885300   \n",
              "742 2021-12-30 00:00:00-03:00  21.022578  21.022578  20.542118  20.542118   \n",
              "\n",
              "       Volume  Dividends  Stock Splits                             ticket  \\\n",
              "0    25581700      0.015             0  yfinance.Ticker object <ITUB4.SA>   \n",
              "1    21938600      0.000             0  yfinance.Ticker object <ITUB4.SA>   \n",
              "2    24873500      0.000             0  yfinance.Ticker object <ITUB4.SA>   \n",
              "3    16901100      0.000             0  yfinance.Ticker object <ITUB4.SA>   \n",
              "4    19556300      0.000             0  yfinance.Ticker object <ITUB4.SA>   \n",
              "..        ...        ...           ...                                ...   \n",
              "738  22377000      0.000             0  yfinance.Ticker object <ITUB4.SA>   \n",
              "739  14025800      0.000             0  yfinance.Ticker object <ITUB4.SA>   \n",
              "740  15294200      0.000             0  yfinance.Ticker object <ITUB4.SA>   \n",
              "741  12856100      0.000             0  yfinance.Ticker object <ITUB4.SA>   \n",
              "742  39997300      0.000             0  yfinance.Ticker object <ITUB4.SA>   \n",
              "\n",
              "     year  month  day  rentabilidade  \n",
              "0    2019      1    2            NaN  \n",
              "1    2019      1    3       1.648605  \n",
              "2    2019      1    4      -1.675066  \n",
              "3    2019      1    7       0.189270  \n",
              "4    2019      1    8       1.268557  \n",
              "..    ...    ...  ...            ...  \n",
              "738  2021     12   23       0.518136  \n",
              "739  2021     12   27       1.030912  \n",
              "740  2021     12   28      -0.371045  \n",
              "741  2021     12   29      -0.838003  \n",
              "742  2021     12   30      -1.643173  \n",
              "\n",
              "[743 rows x 13 columns]"
            ],
            "text/html": [
              "\n",
              "  <div id=\"df-c5ddbcb6-33c3-4ba7-aed0-4eb8d9dd230c\">\n",
              "    <div class=\"colab-df-container\">\n",
              "      <div>\n",
              "<style scoped>\n",
              "    .dataframe tbody tr th:only-of-type {\n",
              "        vertical-align: middle;\n",
              "    }\n",
              "\n",
              "    .dataframe tbody tr th {\n",
              "        vertical-align: top;\n",
              "    }\n",
              "\n",
              "    .dataframe thead th {\n",
              "        text-align: right;\n",
              "    }\n",
              "</style>\n",
              "<table border=\"1\" class=\"dataframe\">\n",
              "  <thead>\n",
              "    <tr style=\"text-align: right;\">\n",
              "      <th></th>\n",
              "      <th>Date</th>\n",
              "      <th>Open</th>\n",
              "      <th>High</th>\n",
              "      <th>Low</th>\n",
              "      <th>Close</th>\n",
              "      <th>Volume</th>\n",
              "      <th>Dividends</th>\n",
              "      <th>Stock Splits</th>\n",
              "      <th>ticket</th>\n",
              "      <th>year</th>\n",
              "      <th>month</th>\n",
              "      <th>day</th>\n",
              "      <th>rentabilidade</th>\n",
              "    </tr>\n",
              "  </thead>\n",
              "  <tbody>\n",
              "    <tr>\n",
              "      <th>0</th>\n",
              "      <td>2019-01-02 00:00:00-02:00</td>\n",
              "      <td>31.128874</td>\n",
              "      <td>32.622076</td>\n",
              "      <td>31.049822</td>\n",
              "      <td>32.499107</td>\n",
              "      <td>25581700</td>\n",
              "      <td>0.015</td>\n",
              "      <td>0</td>\n",
              "      <td>yfinance.Ticker object &lt;ITUB4.SA&gt;</td>\n",
              "      <td>2019</td>\n",
              "      <td>1</td>\n",
              "      <td>2</td>\n",
              "      <td>NaN</td>\n",
              "    </tr>\n",
              "    <tr>\n",
              "      <th>1</th>\n",
              "      <td>2019-01-03 00:00:00-02:00</td>\n",
              "      <td>32.279504</td>\n",
              "      <td>33.034889</td>\n",
              "      <td>32.015999</td>\n",
              "      <td>33.034889</td>\n",
              "      <td>21938600</td>\n",
              "      <td>0.000</td>\n",
              "      <td>0</td>\n",
              "      <td>yfinance.Ticker object &lt;ITUB4.SA&gt;</td>\n",
              "      <td>2019</td>\n",
              "      <td>1</td>\n",
              "      <td>3</td>\n",
              "      <td>1.648605</td>\n",
              "    </tr>\n",
              "    <tr>\n",
              "      <th>2</th>\n",
              "      <td>2019-01-04 00:00:00-02:00</td>\n",
              "      <td>32.692340</td>\n",
              "      <td>33.122731</td>\n",
              "      <td>32.279512</td>\n",
              "      <td>32.481533</td>\n",
              "      <td>24873500</td>\n",
              "      <td>0.000</td>\n",
              "      <td>0</td>\n",
              "      <td>yfinance.Ticker object &lt;ITUB4.SA&gt;</td>\n",
              "      <td>2019</td>\n",
              "      <td>1</td>\n",
              "      <td>4</td>\n",
              "      <td>-1.675066</td>\n",
              "    </tr>\n",
              "    <tr>\n",
              "      <th>3</th>\n",
              "      <td>2019-01-07 00:00:00-02:00</td>\n",
              "      <td>32.323422</td>\n",
              "      <td>32.938271</td>\n",
              "      <td>32.279505</td>\n",
              "      <td>32.543011</td>\n",
              "      <td>16901100</td>\n",
              "      <td>0.000</td>\n",
              "      <td>0</td>\n",
              "      <td>yfinance.Ticker object &lt;ITUB4.SA&gt;</td>\n",
              "      <td>2019</td>\n",
              "      <td>1</td>\n",
              "      <td>7</td>\n",
              "      <td>0.189270</td>\n",
              "    </tr>\n",
              "    <tr>\n",
              "      <th>4</th>\n",
              "      <td>2019-01-08 00:00:00-02:00</td>\n",
              "      <td>32.657197</td>\n",
              "      <td>32.999754</td>\n",
              "      <td>32.112618</td>\n",
              "      <td>32.955837</td>\n",
              "      <td>19556300</td>\n",
              "      <td>0.000</td>\n",
              "      <td>0</td>\n",
              "      <td>yfinance.Ticker object &lt;ITUB4.SA&gt;</td>\n",
              "      <td>2019</td>\n",
              "      <td>1</td>\n",
              "      <td>8</td>\n",
              "      <td>1.268557</td>\n",
              "    </tr>\n",
              "    <tr>\n",
              "      <th>...</th>\n",
              "      <td>...</td>\n",
              "      <td>...</td>\n",
              "      <td>...</td>\n",
              "      <td>...</td>\n",
              "      <td>...</td>\n",
              "      <td>...</td>\n",
              "      <td>...</td>\n",
              "      <td>...</td>\n",
              "      <td>...</td>\n",
              "      <td>...</td>\n",
              "      <td>...</td>\n",
              "      <td>...</td>\n",
              "      <td>...</td>\n",
              "    </tr>\n",
              "    <tr>\n",
              "      <th>738</th>\n",
              "      <td>2021-12-23 00:00:00-03:00</td>\n",
              "      <td>20.914719</td>\n",
              "      <td>21.150046</td>\n",
              "      <td>20.757834</td>\n",
              "      <td>20.924524</td>\n",
              "      <td>22377000</td>\n",
              "      <td>0.000</td>\n",
              "      <td>0</td>\n",
              "      <td>yfinance.Ticker object &lt;ITUB4.SA&gt;</td>\n",
              "      <td>2021</td>\n",
              "      <td>12</td>\n",
              "      <td>23</td>\n",
              "      <td>0.518136</td>\n",
              "    </tr>\n",
              "    <tr>\n",
              "      <th>739</th>\n",
              "      <td>2021-12-27 00:00:00-03:00</td>\n",
              "      <td>21.061795</td>\n",
              "      <td>21.277513</td>\n",
              "      <td>20.895105</td>\n",
              "      <td>21.140238</td>\n",
              "      <td>14025800</td>\n",
              "      <td>0.000</td>\n",
              "      <td>0</td>\n",
              "      <td>yfinance.Ticker object &lt;ITUB4.SA&gt;</td>\n",
              "      <td>2021</td>\n",
              "      <td>12</td>\n",
              "      <td>27</td>\n",
              "      <td>1.030912</td>\n",
              "    </tr>\n",
              "    <tr>\n",
              "      <th>740</th>\n",
              "      <td>2021-12-28 00:00:00-03:00</td>\n",
              "      <td>21.208877</td>\n",
              "      <td>21.277516</td>\n",
              "      <td>20.983356</td>\n",
              "      <td>21.061798</td>\n",
              "      <td>15294200</td>\n",
              "      <td>0.000</td>\n",
              "      <td>0</td>\n",
              "      <td>yfinance.Ticker object &lt;ITUB4.SA&gt;</td>\n",
              "      <td>2021</td>\n",
              "      <td>12</td>\n",
              "      <td>28</td>\n",
              "      <td>-0.371045</td>\n",
              "    </tr>\n",
              "    <tr>\n",
              "      <th>741</th>\n",
              "      <td>2021-12-29 00:00:00-03:00</td>\n",
              "      <td>21.110823</td>\n",
              "      <td>21.159849</td>\n",
              "      <td>20.816663</td>\n",
              "      <td>20.885300</td>\n",
              "      <td>12856100</td>\n",
              "      <td>0.000</td>\n",
              "      <td>0</td>\n",
              "      <td>yfinance.Ticker object &lt;ITUB4.SA&gt;</td>\n",
              "      <td>2021</td>\n",
              "      <td>12</td>\n",
              "      <td>29</td>\n",
              "      <td>-0.838003</td>\n",
              "    </tr>\n",
              "    <tr>\n",
              "      <th>742</th>\n",
              "      <td>2021-12-30 00:00:00-03:00</td>\n",
              "      <td>21.022578</td>\n",
              "      <td>21.022578</td>\n",
              "      <td>20.542118</td>\n",
              "      <td>20.542118</td>\n",
              "      <td>39997300</td>\n",
              "      <td>0.000</td>\n",
              "      <td>0</td>\n",
              "      <td>yfinance.Ticker object &lt;ITUB4.SA&gt;</td>\n",
              "      <td>2021</td>\n",
              "      <td>12</td>\n",
              "      <td>30</td>\n",
              "      <td>-1.643173</td>\n",
              "    </tr>\n",
              "  </tbody>\n",
              "</table>\n",
              "<p>743 rows × 13 columns</p>\n",
              "</div>\n",
              "      <button class=\"colab-df-convert\" onclick=\"convertToInteractive('df-c5ddbcb6-33c3-4ba7-aed0-4eb8d9dd230c')\"\n",
              "              title=\"Convert this dataframe to an interactive table.\"\n",
              "              style=\"display:none;\">\n",
              "        \n",
              "  <svg xmlns=\"http://www.w3.org/2000/svg\" height=\"24px\"viewBox=\"0 0 24 24\"\n",
              "       width=\"24px\">\n",
              "    <path d=\"M0 0h24v24H0V0z\" fill=\"none\"/>\n",
              "    <path d=\"M18.56 5.44l.94 2.06.94-2.06 2.06-.94-2.06-.94-.94-2.06-.94 2.06-2.06.94zm-11 1L8.5 8.5l.94-2.06 2.06-.94-2.06-.94L8.5 2.5l-.94 2.06-2.06.94zm10 10l.94 2.06.94-2.06 2.06-.94-2.06-.94-.94-2.06-.94 2.06-2.06.94z\"/><path d=\"M17.41 7.96l-1.37-1.37c-.4-.4-.92-.59-1.43-.59-.52 0-1.04.2-1.43.59L10.3 9.45l-7.72 7.72c-.78.78-.78 2.05 0 2.83L4 21.41c.39.39.9.59 1.41.59.51 0 1.02-.2 1.41-.59l7.78-7.78 2.81-2.81c.8-.78.8-2.07 0-2.86zM5.41 20L4 18.59l7.72-7.72 1.47 1.35L5.41 20z\"/>\n",
              "  </svg>\n",
              "      </button>\n",
              "      \n",
              "  <style>\n",
              "    .colab-df-container {\n",
              "      display:flex;\n",
              "      flex-wrap:wrap;\n",
              "      gap: 12px;\n",
              "    }\n",
              "\n",
              "    .colab-df-convert {\n",
              "      background-color: #E8F0FE;\n",
              "      border: none;\n",
              "      border-radius: 50%;\n",
              "      cursor: pointer;\n",
              "      display: none;\n",
              "      fill: #1967D2;\n",
              "      height: 32px;\n",
              "      padding: 0 0 0 0;\n",
              "      width: 32px;\n",
              "    }\n",
              "\n",
              "    .colab-df-convert:hover {\n",
              "      background-color: #E2EBFA;\n",
              "      box-shadow: 0px 1px 2px rgba(60, 64, 67, 0.3), 0px 1px 3px 1px rgba(60, 64, 67, 0.15);\n",
              "      fill: #174EA6;\n",
              "    }\n",
              "\n",
              "    [theme=dark] .colab-df-convert {\n",
              "      background-color: #3B4455;\n",
              "      fill: #D2E3FC;\n",
              "    }\n",
              "\n",
              "    [theme=dark] .colab-df-convert:hover {\n",
              "      background-color: #434B5C;\n",
              "      box-shadow: 0px 1px 3px 1px rgba(0, 0, 0, 0.15);\n",
              "      filter: drop-shadow(0px 1px 2px rgba(0, 0, 0, 0.3));\n",
              "      fill: #FFFFFF;\n",
              "    }\n",
              "  </style>\n",
              "\n",
              "      <script>\n",
              "        const buttonEl =\n",
              "          document.querySelector('#df-c5ddbcb6-33c3-4ba7-aed0-4eb8d9dd230c button.colab-df-convert');\n",
              "        buttonEl.style.display =\n",
              "          google.colab.kernel.accessAllowed ? 'block' : 'none';\n",
              "\n",
              "        async function convertToInteractive(key) {\n",
              "          const element = document.querySelector('#df-c5ddbcb6-33c3-4ba7-aed0-4eb8d9dd230c');\n",
              "          const dataTable =\n",
              "            await google.colab.kernel.invokeFunction('convertToInteractive',\n",
              "                                                     [key], {});\n",
              "          if (!dataTable) return;\n",
              "\n",
              "          const docLinkHtml = 'Like what you see? Visit the ' +\n",
              "            '<a target=\"_blank\" href=https://colab.research.google.com/notebooks/data_table.ipynb>data table notebook</a>'\n",
              "            + ' to learn more about interactive tables.';\n",
              "          element.innerHTML = '';\n",
              "          dataTable['output_type'] = 'display_data';\n",
              "          await google.colab.output.renderOutput(dataTable, element);\n",
              "          const docLink = document.createElement('div');\n",
              "          docLink.innerHTML = docLinkHtml;\n",
              "          element.appendChild(docLink);\n",
              "        }\n",
              "      </script>\n",
              "    </div>\n",
              "  </div>\n",
              "  "
            ]
          },
          "metadata": {},
          "execution_count": 89
        }
      ]
    },
    {
      "cell_type": "code",
      "source": [
        "correlacao = pd.DataFrame()\n",
        "for d in dfs:\n",
        "  #print(d)\n",
        "  correlacao[d['ticket'].iloc[0]] = d['rentabilidade']"
      ],
      "metadata": {
        "id": "mg-lDTIXRx1V"
      },
      "execution_count": null,
      "outputs": []
    },
    {
      "cell_type": "code",
      "source": [
        "print(type(d))\n"
      ],
      "metadata": {
        "id": "LC4-fPNxernS",
        "outputId": "44f344d6-cc08-467c-a3bc-65308e25969e",
        "colab": {
          "base_uri": "https://localhost:8080/"
        }
      },
      "execution_count": null,
      "outputs": [
        {
          "output_type": "stream",
          "name": "stdout",
          "text": [
            "<class 'pandas.core.frame.DataFrame'>\n"
          ]
        }
      ]
    },
    {
      "cell_type": "code",
      "source": [
        "correlacao.head()"
      ],
      "metadata": {
        "colab": {
          "base_uri": "https://localhost:8080/",
          "height": 268
        },
        "id": "aoOnNpccSz_1",
        "outputId": "3becaec6-4eff-4ab3-e81c-695878bff3f4"
      },
      "execution_count": null,
      "outputs": [
        {
          "output_type": "execute_result",
          "data": {
            "text/plain": [
              "   yfinance.Ticker object <VALE3.SA>  yfinance.Ticker object <ITUB4.SA>  \\\n",
              "0                                NaN                                NaN   \n",
              "1                          -4.090822                           1.648605   \n",
              "2                           6.510207                          -1.675066   \n",
              "3                          -0.536508                           0.189270   \n",
              "4                           0.963202                           1.268557   \n",
              "\n",
              "   yfinance.Ticker object <PETR4.SA>  yfinance.Ticker object <ABEV3.SA>  \\\n",
              "0                                NaN                                NaN   \n",
              "1                           2.452215                           1.114552   \n",
              "2                           0.283981                           1.347211   \n",
              "3                           1.577663                          -0.422960   \n",
              "4                          -0.597367                          -2.002427   \n",
              "\n",
              "   yfinance.Ticker object <BBDC4.SA>  yfinance.Ticker object <BBAS3.SA>  \\\n",
              "0                                NaN                                NaN   \n",
              "1                           1.012987                           0.411537   \n",
              "2                          -0.784651                           0.000000   \n",
              "3                           1.186343                          -0.655739   \n",
              "4                           0.610663                          -1.134483   \n",
              "\n",
              "   yfinance.Ticker object <^BVSP>  yfinance.Ticker object <USDBRL=X>  \n",
              "0                             NaN                                NaN  \n",
              "1                        0.606513                          -0.002581  \n",
              "2                        0.302521                          -2.412434  \n",
              "3                       -0.154615                          -0.824022  \n",
              "4                        0.363145                          -2.500598  "
            ],
            "text/html": [
              "\n",
              "  <div id=\"df-bfb3c94c-adb3-40ff-86f9-3df3ef17d022\">\n",
              "    <div class=\"colab-df-container\">\n",
              "      <div>\n",
              "<style scoped>\n",
              "    .dataframe tbody tr th:only-of-type {\n",
              "        vertical-align: middle;\n",
              "    }\n",
              "\n",
              "    .dataframe tbody tr th {\n",
              "        vertical-align: top;\n",
              "    }\n",
              "\n",
              "    .dataframe thead th {\n",
              "        text-align: right;\n",
              "    }\n",
              "</style>\n",
              "<table border=\"1\" class=\"dataframe\">\n",
              "  <thead>\n",
              "    <tr style=\"text-align: right;\">\n",
              "      <th></th>\n",
              "      <th>yfinance.Ticker object &lt;VALE3.SA&gt;</th>\n",
              "      <th>yfinance.Ticker object &lt;ITUB4.SA&gt;</th>\n",
              "      <th>yfinance.Ticker object &lt;PETR4.SA&gt;</th>\n",
              "      <th>yfinance.Ticker object &lt;ABEV3.SA&gt;</th>\n",
              "      <th>yfinance.Ticker object &lt;BBDC4.SA&gt;</th>\n",
              "      <th>yfinance.Ticker object &lt;BBAS3.SA&gt;</th>\n",
              "      <th>yfinance.Ticker object &lt;^BVSP&gt;</th>\n",
              "      <th>yfinance.Ticker object &lt;USDBRL=X&gt;</th>\n",
              "    </tr>\n",
              "  </thead>\n",
              "  <tbody>\n",
              "    <tr>\n",
              "      <th>0</th>\n",
              "      <td>NaN</td>\n",
              "      <td>NaN</td>\n",
              "      <td>NaN</td>\n",
              "      <td>NaN</td>\n",
              "      <td>NaN</td>\n",
              "      <td>NaN</td>\n",
              "      <td>NaN</td>\n",
              "      <td>NaN</td>\n",
              "    </tr>\n",
              "    <tr>\n",
              "      <th>1</th>\n",
              "      <td>-4.090822</td>\n",
              "      <td>1.648605</td>\n",
              "      <td>2.452215</td>\n",
              "      <td>1.114552</td>\n",
              "      <td>1.012987</td>\n",
              "      <td>0.411537</td>\n",
              "      <td>0.606513</td>\n",
              "      <td>-0.002581</td>\n",
              "    </tr>\n",
              "    <tr>\n",
              "      <th>2</th>\n",
              "      <td>6.510207</td>\n",
              "      <td>-1.675066</td>\n",
              "      <td>0.283981</td>\n",
              "      <td>1.347211</td>\n",
              "      <td>-0.784651</td>\n",
              "      <td>0.000000</td>\n",
              "      <td>0.302521</td>\n",
              "      <td>-2.412434</td>\n",
              "    </tr>\n",
              "    <tr>\n",
              "      <th>3</th>\n",
              "      <td>-0.536508</td>\n",
              "      <td>0.189270</td>\n",
              "      <td>1.577663</td>\n",
              "      <td>-0.422960</td>\n",
              "      <td>1.186343</td>\n",
              "      <td>-0.655739</td>\n",
              "      <td>-0.154615</td>\n",
              "      <td>-0.824022</td>\n",
              "    </tr>\n",
              "    <tr>\n",
              "      <th>4</th>\n",
              "      <td>0.963202</td>\n",
              "      <td>1.268557</td>\n",
              "      <td>-0.597367</td>\n",
              "      <td>-2.002427</td>\n",
              "      <td>0.610663</td>\n",
              "      <td>-1.134483</td>\n",
              "      <td>0.363145</td>\n",
              "      <td>-2.500598</td>\n",
              "    </tr>\n",
              "  </tbody>\n",
              "</table>\n",
              "</div>\n",
              "      <button class=\"colab-df-convert\" onclick=\"convertToInteractive('df-bfb3c94c-adb3-40ff-86f9-3df3ef17d022')\"\n",
              "              title=\"Convert this dataframe to an interactive table.\"\n",
              "              style=\"display:none;\">\n",
              "        \n",
              "  <svg xmlns=\"http://www.w3.org/2000/svg\" height=\"24px\"viewBox=\"0 0 24 24\"\n",
              "       width=\"24px\">\n",
              "    <path d=\"M0 0h24v24H0V0z\" fill=\"none\"/>\n",
              "    <path d=\"M18.56 5.44l.94 2.06.94-2.06 2.06-.94-2.06-.94-.94-2.06-.94 2.06-2.06.94zm-11 1L8.5 8.5l.94-2.06 2.06-.94-2.06-.94L8.5 2.5l-.94 2.06-2.06.94zm10 10l.94 2.06.94-2.06 2.06-.94-2.06-.94-.94-2.06-.94 2.06-2.06.94z\"/><path d=\"M17.41 7.96l-1.37-1.37c-.4-.4-.92-.59-1.43-.59-.52 0-1.04.2-1.43.59L10.3 9.45l-7.72 7.72c-.78.78-.78 2.05 0 2.83L4 21.41c.39.39.9.59 1.41.59.51 0 1.02-.2 1.41-.59l7.78-7.78 2.81-2.81c.8-.78.8-2.07 0-2.86zM5.41 20L4 18.59l7.72-7.72 1.47 1.35L5.41 20z\"/>\n",
              "  </svg>\n",
              "      </button>\n",
              "      \n",
              "  <style>\n",
              "    .colab-df-container {\n",
              "      display:flex;\n",
              "      flex-wrap:wrap;\n",
              "      gap: 12px;\n",
              "    }\n",
              "\n",
              "    .colab-df-convert {\n",
              "      background-color: #E8F0FE;\n",
              "      border: none;\n",
              "      border-radius: 50%;\n",
              "      cursor: pointer;\n",
              "      display: none;\n",
              "      fill: #1967D2;\n",
              "      height: 32px;\n",
              "      padding: 0 0 0 0;\n",
              "      width: 32px;\n",
              "    }\n",
              "\n",
              "    .colab-df-convert:hover {\n",
              "      background-color: #E2EBFA;\n",
              "      box-shadow: 0px 1px 2px rgba(60, 64, 67, 0.3), 0px 1px 3px 1px rgba(60, 64, 67, 0.15);\n",
              "      fill: #174EA6;\n",
              "    }\n",
              "\n",
              "    [theme=dark] .colab-df-convert {\n",
              "      background-color: #3B4455;\n",
              "      fill: #D2E3FC;\n",
              "    }\n",
              "\n",
              "    [theme=dark] .colab-df-convert:hover {\n",
              "      background-color: #434B5C;\n",
              "      box-shadow: 0px 1px 3px 1px rgba(0, 0, 0, 0.15);\n",
              "      filter: drop-shadow(0px 1px 2px rgba(0, 0, 0, 0.3));\n",
              "      fill: #FFFFFF;\n",
              "    }\n",
              "  </style>\n",
              "\n",
              "      <script>\n",
              "        const buttonEl =\n",
              "          document.querySelector('#df-bfb3c94c-adb3-40ff-86f9-3df3ef17d022 button.colab-df-convert');\n",
              "        buttonEl.style.display =\n",
              "          google.colab.kernel.accessAllowed ? 'block' : 'none';\n",
              "\n",
              "        async function convertToInteractive(key) {\n",
              "          const element = document.querySelector('#df-bfb3c94c-adb3-40ff-86f9-3df3ef17d022');\n",
              "          const dataTable =\n",
              "            await google.colab.kernel.invokeFunction('convertToInteractive',\n",
              "                                                     [key], {});\n",
              "          if (!dataTable) return;\n",
              "\n",
              "          const docLinkHtml = 'Like what you see? Visit the ' +\n",
              "            '<a target=\"_blank\" href=https://colab.research.google.com/notebooks/data_table.ipynb>data table notebook</a>'\n",
              "            + ' to learn more about interactive tables.';\n",
              "          element.innerHTML = '';\n",
              "          dataTable['output_type'] = 'display_data';\n",
              "          await google.colab.output.renderOutput(dataTable, element);\n",
              "          const docLink = document.createElement('div');\n",
              "          docLink.innerHTML = docLinkHtml;\n",
              "          element.appendChild(docLink);\n",
              "        }\n",
              "      </script>\n",
              "    </div>\n",
              "  </div>\n",
              "  "
            ]
          },
          "metadata": {},
          "execution_count": 92
        }
      ]
    },
    {
      "cell_type": "code",
      "source": [
        "correlacao.corr()"
      ],
      "metadata": {
        "colab": {
          "base_uri": "https://localhost:8080/",
          "height": 501
        },
        "id": "zmzJkR0NQax-",
        "outputId": "aa9436be-6d97-41c3-c5d9-ae1355899389"
      },
      "execution_count": null,
      "outputs": [
        {
          "output_type": "execute_result",
          "data": {
            "text/plain": [
              "                                   yfinance.Ticker object <VALE3.SA>  \\\n",
              "yfinance.Ticker object <VALE3.SA>                           1.000000   \n",
              "yfinance.Ticker object <ITUB4.SA>                           0.400857   \n",
              "yfinance.Ticker object <PETR4.SA>                           0.554430   \n",
              "yfinance.Ticker object <ABEV3.SA>                           0.242341   \n",
              "yfinance.Ticker object <BBDC4.SA>                           0.426628   \n",
              "yfinance.Ticker object <BBAS3.SA>                           0.477583   \n",
              "yfinance.Ticker object <^BVSP>                              0.655978   \n",
              "yfinance.Ticker object <USDBRL=X>                           0.021624   \n",
              "\n",
              "                                   yfinance.Ticker object <ITUB4.SA>  \\\n",
              "yfinance.Ticker object <VALE3.SA>                           0.400857   \n",
              "yfinance.Ticker object <ITUB4.SA>                           1.000000   \n",
              "yfinance.Ticker object <PETR4.SA>                           0.596792   \n",
              "yfinance.Ticker object <ABEV3.SA>                           0.523072   \n",
              "yfinance.Ticker object <BBDC4.SA>                           0.719886   \n",
              "yfinance.Ticker object <BBAS3.SA>                           0.787078   \n",
              "yfinance.Ticker object <^BVSP>                              0.772314   \n",
              "yfinance.Ticker object <USDBRL=X>                           0.012767   \n",
              "\n",
              "                                   yfinance.Ticker object <PETR4.SA>  \\\n",
              "yfinance.Ticker object <VALE3.SA>                           0.554430   \n",
              "yfinance.Ticker object <ITUB4.SA>                           0.596792   \n",
              "yfinance.Ticker object <PETR4.SA>                           1.000000   \n",
              "yfinance.Ticker object <ABEV3.SA>                           0.453255   \n",
              "yfinance.Ticker object <BBDC4.SA>                           0.577027   \n",
              "yfinance.Ticker object <BBAS3.SA>                           0.693055   \n",
              "yfinance.Ticker object <^BVSP>                              0.817568   \n",
              "yfinance.Ticker object <USDBRL=X>                           0.038658   \n",
              "\n",
              "                                   yfinance.Ticker object <ABEV3.SA>  \\\n",
              "yfinance.Ticker object <VALE3.SA>                           0.242341   \n",
              "yfinance.Ticker object <ITUB4.SA>                           0.523072   \n",
              "yfinance.Ticker object <PETR4.SA>                           0.453255   \n",
              "yfinance.Ticker object <ABEV3.SA>                           1.000000   \n",
              "yfinance.Ticker object <BBDC4.SA>                           0.478444   \n",
              "yfinance.Ticker object <BBAS3.SA>                           0.498212   \n",
              "yfinance.Ticker object <^BVSP>                              0.616550   \n",
              "yfinance.Ticker object <USDBRL=X>                           0.066179   \n",
              "\n",
              "                                   yfinance.Ticker object <BBDC4.SA>  \\\n",
              "yfinance.Ticker object <VALE3.SA>                           0.426628   \n",
              "yfinance.Ticker object <ITUB4.SA>                           0.719886   \n",
              "yfinance.Ticker object <PETR4.SA>                           0.577027   \n",
              "yfinance.Ticker object <ABEV3.SA>                           0.478444   \n",
              "yfinance.Ticker object <BBDC4.SA>                           1.000000   \n",
              "yfinance.Ticker object <BBAS3.SA>                           0.754479   \n",
              "yfinance.Ticker object <^BVSP>                              0.726338   \n",
              "yfinance.Ticker object <USDBRL=X>                           0.043141   \n",
              "\n",
              "                                   yfinance.Ticker object <BBAS3.SA>  \\\n",
              "yfinance.Ticker object <VALE3.SA>                           0.477583   \n",
              "yfinance.Ticker object <ITUB4.SA>                           0.787078   \n",
              "yfinance.Ticker object <PETR4.SA>                           0.693055   \n",
              "yfinance.Ticker object <ABEV3.SA>                           0.498212   \n",
              "yfinance.Ticker object <BBDC4.SA>                           0.754479   \n",
              "yfinance.Ticker object <BBAS3.SA>                           1.000000   \n",
              "yfinance.Ticker object <^BVSP>                              0.846785   \n",
              "yfinance.Ticker object <USDBRL=X>                           0.027288   \n",
              "\n",
              "                                   yfinance.Ticker object <^BVSP>  \\\n",
              "yfinance.Ticker object <VALE3.SA>                        0.655978   \n",
              "yfinance.Ticker object <ITUB4.SA>                        0.772314   \n",
              "yfinance.Ticker object <PETR4.SA>                        0.817568   \n",
              "yfinance.Ticker object <ABEV3.SA>                        0.616550   \n",
              "yfinance.Ticker object <BBDC4.SA>                        0.726338   \n",
              "yfinance.Ticker object <BBAS3.SA>                        0.846785   \n",
              "yfinance.Ticker object <^BVSP>                           1.000000   \n",
              "yfinance.Ticker object <USDBRL=X>                        0.031740   \n",
              "\n",
              "                                   yfinance.Ticker object <USDBRL=X>  \n",
              "yfinance.Ticker object <VALE3.SA>                           0.021624  \n",
              "yfinance.Ticker object <ITUB4.SA>                           0.012767  \n",
              "yfinance.Ticker object <PETR4.SA>                           0.038658  \n",
              "yfinance.Ticker object <ABEV3.SA>                           0.066179  \n",
              "yfinance.Ticker object <BBDC4.SA>                           0.043141  \n",
              "yfinance.Ticker object <BBAS3.SA>                           0.027288  \n",
              "yfinance.Ticker object <^BVSP>                              0.031740  \n",
              "yfinance.Ticker object <USDBRL=X>                           1.000000  "
            ],
            "text/html": [
              "\n",
              "  <div id=\"df-9deaf648-e8e0-4498-bf57-17daacfa9f9a\">\n",
              "    <div class=\"colab-df-container\">\n",
              "      <div>\n",
              "<style scoped>\n",
              "    .dataframe tbody tr th:only-of-type {\n",
              "        vertical-align: middle;\n",
              "    }\n",
              "\n",
              "    .dataframe tbody tr th {\n",
              "        vertical-align: top;\n",
              "    }\n",
              "\n",
              "    .dataframe thead th {\n",
              "        text-align: right;\n",
              "    }\n",
              "</style>\n",
              "<table border=\"1\" class=\"dataframe\">\n",
              "  <thead>\n",
              "    <tr style=\"text-align: right;\">\n",
              "      <th></th>\n",
              "      <th>yfinance.Ticker object &lt;VALE3.SA&gt;</th>\n",
              "      <th>yfinance.Ticker object &lt;ITUB4.SA&gt;</th>\n",
              "      <th>yfinance.Ticker object &lt;PETR4.SA&gt;</th>\n",
              "      <th>yfinance.Ticker object &lt;ABEV3.SA&gt;</th>\n",
              "      <th>yfinance.Ticker object &lt;BBDC4.SA&gt;</th>\n",
              "      <th>yfinance.Ticker object &lt;BBAS3.SA&gt;</th>\n",
              "      <th>yfinance.Ticker object &lt;^BVSP&gt;</th>\n",
              "      <th>yfinance.Ticker object &lt;USDBRL=X&gt;</th>\n",
              "    </tr>\n",
              "  </thead>\n",
              "  <tbody>\n",
              "    <tr>\n",
              "      <th>yfinance.Ticker object &lt;VALE3.SA&gt;</th>\n",
              "      <td>1.000000</td>\n",
              "      <td>0.400857</td>\n",
              "      <td>0.554430</td>\n",
              "      <td>0.242341</td>\n",
              "      <td>0.426628</td>\n",
              "      <td>0.477583</td>\n",
              "      <td>0.655978</td>\n",
              "      <td>0.021624</td>\n",
              "    </tr>\n",
              "    <tr>\n",
              "      <th>yfinance.Ticker object &lt;ITUB4.SA&gt;</th>\n",
              "      <td>0.400857</td>\n",
              "      <td>1.000000</td>\n",
              "      <td>0.596792</td>\n",
              "      <td>0.523072</td>\n",
              "      <td>0.719886</td>\n",
              "      <td>0.787078</td>\n",
              "      <td>0.772314</td>\n",
              "      <td>0.012767</td>\n",
              "    </tr>\n",
              "    <tr>\n",
              "      <th>yfinance.Ticker object &lt;PETR4.SA&gt;</th>\n",
              "      <td>0.554430</td>\n",
              "      <td>0.596792</td>\n",
              "      <td>1.000000</td>\n",
              "      <td>0.453255</td>\n",
              "      <td>0.577027</td>\n",
              "      <td>0.693055</td>\n",
              "      <td>0.817568</td>\n",
              "      <td>0.038658</td>\n",
              "    </tr>\n",
              "    <tr>\n",
              "      <th>yfinance.Ticker object &lt;ABEV3.SA&gt;</th>\n",
              "      <td>0.242341</td>\n",
              "      <td>0.523072</td>\n",
              "      <td>0.453255</td>\n",
              "      <td>1.000000</td>\n",
              "      <td>0.478444</td>\n",
              "      <td>0.498212</td>\n",
              "      <td>0.616550</td>\n",
              "      <td>0.066179</td>\n",
              "    </tr>\n",
              "    <tr>\n",
              "      <th>yfinance.Ticker object &lt;BBDC4.SA&gt;</th>\n",
              "      <td>0.426628</td>\n",
              "      <td>0.719886</td>\n",
              "      <td>0.577027</td>\n",
              "      <td>0.478444</td>\n",
              "      <td>1.000000</td>\n",
              "      <td>0.754479</td>\n",
              "      <td>0.726338</td>\n",
              "      <td>0.043141</td>\n",
              "    </tr>\n",
              "    <tr>\n",
              "      <th>yfinance.Ticker object &lt;BBAS3.SA&gt;</th>\n",
              "      <td>0.477583</td>\n",
              "      <td>0.787078</td>\n",
              "      <td>0.693055</td>\n",
              "      <td>0.498212</td>\n",
              "      <td>0.754479</td>\n",
              "      <td>1.000000</td>\n",
              "      <td>0.846785</td>\n",
              "      <td>0.027288</td>\n",
              "    </tr>\n",
              "    <tr>\n",
              "      <th>yfinance.Ticker object &lt;^BVSP&gt;</th>\n",
              "      <td>0.655978</td>\n",
              "      <td>0.772314</td>\n",
              "      <td>0.817568</td>\n",
              "      <td>0.616550</td>\n",
              "      <td>0.726338</td>\n",
              "      <td>0.846785</td>\n",
              "      <td>1.000000</td>\n",
              "      <td>0.031740</td>\n",
              "    </tr>\n",
              "    <tr>\n",
              "      <th>yfinance.Ticker object &lt;USDBRL=X&gt;</th>\n",
              "      <td>0.021624</td>\n",
              "      <td>0.012767</td>\n",
              "      <td>0.038658</td>\n",
              "      <td>0.066179</td>\n",
              "      <td>0.043141</td>\n",
              "      <td>0.027288</td>\n",
              "      <td>0.031740</td>\n",
              "      <td>1.000000</td>\n",
              "    </tr>\n",
              "  </tbody>\n",
              "</table>\n",
              "</div>\n",
              "      <button class=\"colab-df-convert\" onclick=\"convertToInteractive('df-9deaf648-e8e0-4498-bf57-17daacfa9f9a')\"\n",
              "              title=\"Convert this dataframe to an interactive table.\"\n",
              "              style=\"display:none;\">\n",
              "        \n",
              "  <svg xmlns=\"http://www.w3.org/2000/svg\" height=\"24px\"viewBox=\"0 0 24 24\"\n",
              "       width=\"24px\">\n",
              "    <path d=\"M0 0h24v24H0V0z\" fill=\"none\"/>\n",
              "    <path d=\"M18.56 5.44l.94 2.06.94-2.06 2.06-.94-2.06-.94-.94-2.06-.94 2.06-2.06.94zm-11 1L8.5 8.5l.94-2.06 2.06-.94-2.06-.94L8.5 2.5l-.94 2.06-2.06.94zm10 10l.94 2.06.94-2.06 2.06-.94-2.06-.94-.94-2.06-.94 2.06-2.06.94z\"/><path d=\"M17.41 7.96l-1.37-1.37c-.4-.4-.92-.59-1.43-.59-.52 0-1.04.2-1.43.59L10.3 9.45l-7.72 7.72c-.78.78-.78 2.05 0 2.83L4 21.41c.39.39.9.59 1.41.59.51 0 1.02-.2 1.41-.59l7.78-7.78 2.81-2.81c.8-.78.8-2.07 0-2.86zM5.41 20L4 18.59l7.72-7.72 1.47 1.35L5.41 20z\"/>\n",
              "  </svg>\n",
              "      </button>\n",
              "      \n",
              "  <style>\n",
              "    .colab-df-container {\n",
              "      display:flex;\n",
              "      flex-wrap:wrap;\n",
              "      gap: 12px;\n",
              "    }\n",
              "\n",
              "    .colab-df-convert {\n",
              "      background-color: #E8F0FE;\n",
              "      border: none;\n",
              "      border-radius: 50%;\n",
              "      cursor: pointer;\n",
              "      display: none;\n",
              "      fill: #1967D2;\n",
              "      height: 32px;\n",
              "      padding: 0 0 0 0;\n",
              "      width: 32px;\n",
              "    }\n",
              "\n",
              "    .colab-df-convert:hover {\n",
              "      background-color: #E2EBFA;\n",
              "      box-shadow: 0px 1px 2px rgba(60, 64, 67, 0.3), 0px 1px 3px 1px rgba(60, 64, 67, 0.15);\n",
              "      fill: #174EA6;\n",
              "    }\n",
              "\n",
              "    [theme=dark] .colab-df-convert {\n",
              "      background-color: #3B4455;\n",
              "      fill: #D2E3FC;\n",
              "    }\n",
              "\n",
              "    [theme=dark] .colab-df-convert:hover {\n",
              "      background-color: #434B5C;\n",
              "      box-shadow: 0px 1px 3px 1px rgba(0, 0, 0, 0.15);\n",
              "      filter: drop-shadow(0px 1px 2px rgba(0, 0, 0, 0.3));\n",
              "      fill: #FFFFFF;\n",
              "    }\n",
              "  </style>\n",
              "\n",
              "      <script>\n",
              "        const buttonEl =\n",
              "          document.querySelector('#df-9deaf648-e8e0-4498-bf57-17daacfa9f9a button.colab-df-convert');\n",
              "        buttonEl.style.display =\n",
              "          google.colab.kernel.accessAllowed ? 'block' : 'none';\n",
              "\n",
              "        async function convertToInteractive(key) {\n",
              "          const element = document.querySelector('#df-9deaf648-e8e0-4498-bf57-17daacfa9f9a');\n",
              "          const dataTable =\n",
              "            await google.colab.kernel.invokeFunction('convertToInteractive',\n",
              "                                                     [key], {});\n",
              "          if (!dataTable) return;\n",
              "\n",
              "          const docLinkHtml = 'Like what you see? Visit the ' +\n",
              "            '<a target=\"_blank\" href=https://colab.research.google.com/notebooks/data_table.ipynb>data table notebook</a>'\n",
              "            + ' to learn more about interactive tables.';\n",
              "          element.innerHTML = '';\n",
              "          dataTable['output_type'] = 'display_data';\n",
              "          await google.colab.output.renderOutput(dataTable, element);\n",
              "          const docLink = document.createElement('div');\n",
              "          docLink.innerHTML = docLinkHtml;\n",
              "          element.appendChild(docLink);\n",
              "        }\n",
              "      </script>\n",
              "    </div>\n",
              "  </div>\n",
              "  "
            ]
          },
          "metadata": {},
          "execution_count": 93
        }
      ]
    },
    {
      "cell_type": "markdown",
      "source": [
        "## Visualização de dados usando searborn"
      ],
      "metadata": {
        "id": "ycgWcWl6cqFW"
      }
    },
    {
      "cell_type": "code",
      "source": [
        "import seaborn as sns"
      ],
      "metadata": {
        "id": "y3SK9tOgc00h"
      },
      "execution_count": null,
      "outputs": []
    },
    {
      "cell_type": "code",
      "source": [
        "ax , fig = plt.subplots(figsize=(20,5))\n",
        "ax = sns.heatmap(correlacao.corr(), annot=True)"
      ],
      "metadata": {
        "colab": {
          "base_uri": "https://localhost:8080/",
          "height": 499
        },
        "id": "hTuVTn7Jc7-1",
        "outputId": "d8516e58-839b-469b-b9bf-28f01760c8b7"
      },
      "execution_count": null,
      "outputs": [
        {
          "output_type": "display_data",
          "data": {
            "text/plain": [
              "<Figure size 1440x360 with 2 Axes>"
            ],
            "image/png": "[encoded data removed]"
          },
          "metadata": {
            "needs_background": "light"
          }
        }
      ]
    },
    {
      "cell_type": "markdown",
      "source": [
        "## Visualização de dados usando Plotly"
      ],
      "metadata": {
        "id": "UqgnsnNNe1Hy"
      }
    },
    {
      "cell_type": "code",
      "source": [
        "import plotly.graph_objs as go"
      ],
      "metadata": {
        "id": "S61D03kRfA4v"
      },
      "execution_count": null,
      "outputs": []
    },
    {
      "cell_type": "code",
      "source": [
        "def plot_lines(df_, columns=['Open', 'Close', 'High','Low']):\n",
        "  fig = go.Figure()\n",
        "  for c in columns:\n",
        "    fig.add_trace(go.Scatter(x = list(df_.index),\n",
        "                             y = df_ [c],\n",
        "                             mode = 'markers+lines',\n",
        "                             name = c))\n",
        "    return fig"
      ],
      "metadata": {
        "id": "ubcXDqUzfF8Z"
      },
      "execution_count": null,
      "outputs": []
    },
    {
      "cell_type": "code",
      "source": [
        "plot_lines(df)\n",
        "print(plot_lines)\n"
      ],
      "metadata": {
        "colab": {
          "base_uri": "https://localhost:8080/"
        },
        "id": "-DwfixSCfisv",
        "outputId": "d7942070-92fa-4b22-d362-f54e927d9edd"
      },
      "execution_count": null,
      "outputs": [
        {
          "output_type": "stream",
          "name": "stdout",
          "text": [
            "<function plot_lines at 0x7fee9f94f290>\n"
          ]
        }
      ]
    },
    {
      "cell_type": "code",
      "source": [
        "def plotCandleStick(df, acao= 'ticket'):\n",
        "  tracel = {\n",
        "      'x' : df.index,\n",
        "      'open' : df.Open,\n",
        "      'high' : df.High,\n",
        "      'low' : df.Low,\n",
        "      'type':'candlestick',\n",
        "      'name' : acao ,\n",
        "      'showlegend' : False\n",
        "  }\n",
        "  \n",
        "  data = [tracel] \n",
        "  layout= go.Layout()\n",
        "\n",
        "  fig =go.Figure(data=data, layout=layout)\n",
        "  return fig \n"
      ],
      "metadata": {
        "id": "SKLXq3xpgJr-"
      },
      "execution_count": null,
      "outputs": []
    },
    {
      "cell_type": "code",
      "source": [
        "#travei aqui, o grafico CandleStick nao me retorna valor."
      ],
      "metadata": {
        "colab": {
          "base_uri": "https://localhost:8080/",
          "height": 166
        },
        "id": "f8N_3Z-BiPna",
        "outputId": "ef3b00c4-6627-45e0-abc8-728b37291aa8"
      },
      "execution_count": null,
      "outputs": [
        {
          "output_type": "error",
          "ename": "NameError",
          "evalue": "ignored",
          "traceback": [
            "\u001b[0;31m---------------------------------------------------------------------------\u001b[0m",
            "\u001b[0;31mNameError\u001b[0m                                 Traceback (most recent call last)",
            "\u001b[0;32m<ipython-input-112-0ba88a5309d5>\u001b[0m in \u001b[0;36m<module>\u001b[0;34m\u001b[0m\n\u001b[0;32m----> 1\u001b[0;31m \u001b[0mprint\u001b[0m\u001b[0;34m(\u001b[0m\u001b[0mseaborn\u001b[0m\u001b[0;34m(\u001b[0m\u001b[0;34m)\u001b[0m\u001b[0;34m)\u001b[0m\u001b[0;34m\u001b[0m\u001b[0;34m\u001b[0m\u001b[0m\n\u001b[0m",
            "\u001b[0;31mNameError\u001b[0m: name 'seaborn' is not defined"
          ]
        }
      ]
    },
    {
      "cell_type": "code",
      "source": [
        "plotCandleStick(df)"
      ],
      "metadata": {
        "colab": {
          "base_uri": "https://localhost:8080/",
          "height": 166
        },
        "id": "b1jouPcKsjhV",
        "outputId": "1c0630bb-4759-4ea1-b274-02e49714904f"
      },
      "execution_count": null,
      "outputs": [
        {
          "output_type": "error",
          "ename": "TypeError",
          "evalue": "ignored",
          "traceback": [
            "\u001b[0;31m---------------------------------------------------------------------------\u001b[0m",
            "\u001b[0;31mTypeError\u001b[0m                                 Traceback (most recent call last)",
            "\u001b[0;32m<ipython-input-106-92f9c9394e73>\u001b[0m in \u001b[0;36m<module>\u001b[0;34m\u001b[0m\n\u001b[0;32m----> 1\u001b[0;31m \u001b[0mprint\u001b[0m\u001b[0;34m(\u001b[0m\u001b[0mplotCandleStick\u001b[0m\u001b[0;34m(\u001b[0m\u001b[0;34m)\u001b[0m\u001b[0;34m)\u001b[0m\u001b[0;34m\u001b[0m\u001b[0;34m\u001b[0m\u001b[0m\n\u001b[0m",
            "\u001b[0;31mTypeError\u001b[0m: plotCandleStick() missing 1 required positional argument: 'df'"
          ]
        }
      ]
    },
    {
      "cell_type": "code",
      "source": [
        "\n",
        "\n"
      ],
      "metadata": {
        "id": "T2o6yZ_1gsG8"
      },
      "execution_count": null,
      "outputs": []
    },
    {
      "cell_type": "code",
      "source": [],
      "metadata": {
        "id": "9yimg1z_s97Y"
      },
      "execution_count": null,
      "outputs": []
    }
  ]
}